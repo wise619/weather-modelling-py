{
  "nbformat": 4,
  "nbformat_minor": 0,
  "metadata": {
    "colab": {
      "provenance": [],
      "authorship_tag": "ABX9TyOoLfOevsctLSt/fPFWVkY/",
      "include_colab_link": true
    },
    "kernelspec": {
      "name": "python3",
      "display_name": "Python 3"
    },
    "language_info": {
      "name": "python"
    }
  },
  "cells": [
    {
      "cell_type": "markdown",
      "metadata": {
        "id": "view-in-github",
        "colab_type": "text"
      },
      "source": [
        "<a href=\"https://colab.research.google.com/github/wise619/weather-modelling-py/blob/main/weather_forecast_modeling.ipynb\" target=\"_parent\"><img src=\"https://colab.research.google.com/assets/colab-badge.svg\" alt=\"Open In Colab\"/></a>"
      ]
    },
    {
      "cell_type": "markdown",
      "source": [
        "Section 1 Import Libraries"
      ],
      "metadata": {
        "id": "kHfGZKDHkfAo"
      }
    },
    {
      "cell_type": "code",
      "source": [
        "# External libraries\n",
        "import requests  # For fetching data from APIs\n",
        "import pandas as pd  # For data manipulation and analysis\n",
        "import numpy as np  # For numerical computations\n",
        "from typing import Tuple, Optional\n",
        "import pytz\n",
        "import calendar\n",
        "import time # Import the time module\n",
        "\n",
        "import matplotlib.pyplot as plt\n",
        "import seaborn as sns\n",
        "\n",
        "from scipy.stats import pearsonr\n",
        "\n",
        "# Scikit-learn modules\n",
        "from sklearn.model_selection import train_test_split  # Split dataset into train and test sets\n",
        "from sklearn.preprocessing import (LabelEncoder, StandardScaler, MinMaxScaler)  # Encode categorical features into numerical\n",
        "from sklearn.ensemble import RandomForestClassifier, RandomForestRegressor  # ML models for classification & regression\n",
        "from sklearn.metrics import mean_squared_error  # Metric for evaluating regression performance\n",
        "from sklearn.model_selection import train_test_split # A function to split data into training and testing sets.\n",
        "from sklearn.metrics import (accuracy_score, precision_score, recall_score, f1_score, confusion_matrix, mean_squared_error, mean_absolute_error, r2_score, explained_variance_score) # Functions to evaluate the performance of a classification model.\n",
        "from sklearn.metrics import roc_auc_score\n",
        "\n",
        "# Tensorflow module\n",
        "# Imports for building, training, and evaluating a neural network model for time series data.\n",
        "from tensorflow.keras.models import (Sequential, load_model) # Classes for creating and loading neural network models.\n",
        "from tensorflow.keras.layers import (LSTM, Dense, Dropout) # Different types of layers used in a neural network.\n",
        "from tensorflow.keras.callbacks import (EarlyStopping) # A callback to stop training when a monitored metric has stopped improving.\n",
        "from tensorflow.keras.preprocessing.sequence import (TimeseriesGenerator) # A utility for creating batches of temporal data for training.\n",
        "\n",
        "# Datetime utilities\n",
        "from datetime import datetime, timedelta  # Work with date and time objects"
      ],
      "metadata": {
        "id": "G_NglswnlV89"
      },
      "execution_count": null,
      "outputs": []
    },
    {
      "cell_type": "code",
      "source": [
        "API_KEY = 'bbcc154d4c2308e43ba5c85fa08e2e16' # Acquired from openweathermap.org\n",
        "Base_URL = 'https://api.openweathermap.org/data/2.5/' # Base url for making request"
      ],
      "metadata": {
        "id": "8Apo0IfFru1e"
      },
      "execution_count": null,
      "outputs": []
    },
    {
      "cell_type": "markdown",
      "source": [
        "1. Fetch Current Weather Data"
      ],
      "metadata": {
        "id": "XXM0s2h3uArU"
      }
    },
    {
      "cell_type": "code",
      "source": [
        "from typing import Dict, Optional\n",
        "\n",
        "def get_current_weather(city: str, units: str = \"metric\") -> Dict[str, Optional[float]]:\n",
        "    \"\"\"\n",
        "    Fetches current weather data from OpenWeatherMap API with comprehensive error handling.\n",
        "\n",
        "    Args:\n",
        "        city (str): City name (e.g., \"London\", \"Akim Oda\").\n",
        "        units (str): Units for temperature (\"metric\", \"imperial\", or \"standard\"). Default is \"metric\".\n",
        "\n",
        "    Returns:\n",
        "        dict: Weather data with keys:\n",
        "            - city (str)\n",
        "            - current_temp (float)\n",
        "            - feels_like (float)\n",
        "            - temp_min (float)\n",
        "            - temp_max (float)\n",
        "            - humidity (int)\n",
        "            - description (str)\n",
        "            - country (str)\n",
        "            - wind_speed (float)\n",
        "            - wind_direction (int)\n",
        "            - pressure (int)\n",
        "            - timestamp (str)\n",
        "            - success (bool)\n",
        "            - error (str or None)\n",
        "    \"\"\"\n",
        "    url = f\"{Base_URL}weather?q={city}&appid={API_KEY}&units={units}\"\n",
        "\n",
        "    try:\n",
        "        response = requests.get(url, timeout=10)\n",
        "        response.raise_for_status()\n",
        "        data = response.json()\n",
        "\n",
        "        # Safely extract all fields with defaults\n",
        "        weather_info = {\n",
        "            'city': data.get('name', 'N/A'),\n",
        "            'current_temp': round(data.get('main', {}).get('temp', 0), 2),\n",
        "            'feels_like': round(data.get('main', {}).get('feels_like', 0), 2),\n",
        "            'temp_min': round(data.get('main', {}).get('temp_min', 0), 2),\n",
        "            'temp_max': round(data.get('main', {}).get('temp_max', 0), 2),\n",
        "            'humidity': data.get('main', {}).get('humidity', 0),\n",
        "            'description': (data.get('weather', [{}])[0].get('description') or 'N/A').capitalize(),\n",
        "            'country': data.get('sys', {}).get('country', 'N/A'),\n",
        "            'wind_speed': data.get('wind', {}).get('speed', 0),\n",
        "            'wind_direction': data.get('wind', {}).get('deg', 0),\n",
        "            'pressure': data.get('main', {}).get('pressure', 0),\n",
        "            'timestamp': datetime.utcnow().strftime(\"%Y-%m-%d %H:%M:%S UTC\"),\n",
        "            'success': True,\n",
        "            'error': None\n",
        "        }\n",
        "\n",
        "        # Handle case with no weather description\n",
        "        if not data.get('weather'):\n",
        "            weather_info['description'] = 'N/A'\n",
        "            weather_info['success'] = False\n",
        "            weather_info['error'] = 'No weather description available'\n",
        "\n",
        "        return weather_info\n",
        "\n",
        "    except requests.exceptions.Timeout:\n",
        "        return {**_empty_weather_dict(), 'success': False, 'error': \"Request timed out\"}\n",
        "    except requests.exceptions.ConnectionError:\n",
        "        return {**_empty_weather_dict(), 'success': False, 'error': \"Connection error\"}\n",
        "    except requests.exceptions.RequestException as e:\n",
        "        return {**_empty_weather_dict(), 'success': False, 'error': f\"Network error: {str(e)}\"}\n",
        "    except Exception as e:\n",
        "        return {**_empty_weather_dict(), 'success': False, 'error': f\"Unexpected error: {str(e)}\"}\n",
        "\n",
        "\n",
        "def _empty_weather_dict() -> Dict[str, Optional[float]]:\n",
        "    \"\"\"Helper: Returns a default empty weather dict.\"\"\"\n",
        "    return {\n",
        "        'city': None,\n",
        "        'current_temp': None,\n",
        "        'feels_like': None,\n",
        "        'temp_min': None,\n",
        "        'temp_max': None,\n",
        "        'humidity': None,\n",
        "        'description': None,\n",
        "        'country': None,\n",
        "        'wind_speed': None,\n",
        "        'wind_direction': None,\n",
        "        'pressure': None,\n",
        "        'timestamp': datetime.utcnow().strftime(\"%Y-%m-%d %H:%M:%S UTC\")\n",
        "    }"
      ],
      "metadata": {
        "id": "Ck0rK5C7uPJB"
      },
      "execution_count": null,
      "outputs": []
    },
    {
      "cell_type": "markdown",
      "source": [
        "2. Read Historical Data"
      ],
      "metadata": {
        "id": "02KvfBKAyY_d"
      }
    },
    {
      "cell_type": "code",
      "source": [
        "def read_historical_data(filename):\n",
        "    \"\"\"\n",
        "    Reads historical weather data from a CSV file and performs basic data cleaning.\n",
        "\n",
        "    Args:\n",
        "        filename (str): Path to the CSV file containing historical weather data\n",
        "\n",
        "    Returns:\n",
        "        pd.DataFrame: Cleaned DataFrame with no missing values or duplicates\n",
        "\n",
        "    Raises:\n",
        "        FileNotFoundError: If the specified file doesn't exist\n",
        "        pd.errors.EmptyDataError: If the file is empty\n",
        "        ValueError: If the file cannot be parsed as CSV\n",
        "    \"\"\"\n",
        "    try:\n",
        "        # Read CSV file with explicit dtype specification for better memory management\n",
        "        df = pd.read_csv(\n",
        "            filename,\n",
        "            dtype={\n",
        "                'temperature': 'float32',\n",
        "                'humidity': 'float32',\n",
        "                'wind_speed': 'float32'\n",
        "            },\n",
        "            parse_dates=['date']\n",
        "        )\n",
        "\n",
        "        # Remove rows with missing values\n",
        "        df = df.dropna()\n",
        "\n",
        "        # Remove duplicate rows (fixed missing parentheses)\n",
        "        df = df.drop_duplicates()\n",
        "\n",
        "        # Reset index after dropping rows\n",
        "        df = df.reset_index(drop=True)\n",
        "\n",
        "        return df\n",
        "\n",
        "    except FileNotFoundError:\n",
        "        raise FileNotFoundError(f\"Data file not found: {filename}\")\n",
        "    except pd.errors.EmptyDataError:\n",
        "        raise ValueError(f\"Empty file: {filename}\")\n",
        "    except Exception as e:\n",
        "        raise ValueError(f\"Error processing {filename}: {str(e)}\")"
      ],
      "metadata": {
        "id": "0bQpOKqJynCH"
      },
      "execution_count": null,
      "outputs": []
    },
    {
      "cell_type": "markdown",
      "source": [
        "3. Prepare Data for Training"
      ],
      "metadata": {
        "id": "aR1PnilT6Wsf"
      }
    },
    {
      "cell_type": "code",
      "source": [
        "from sklearn.preprocessing import LabelEncoder\n",
        "import pandas as pd\n",
        "from typing import Tuple, Optional\n",
        "\n",
        "def prepare_weather_data(\n",
        "    data: pd.DataFrame,\n",
        "    target_col: str = \"RainTomorrow\",\n",
        "    categorical_cols: Optional[list] = None,\n",
        "    feature_cols: Optional[list] = None\n",
        ") -> Tuple[pd.DataFrame, pd.Series, dict]:\n",
        "    \"\"\"\n",
        "    Prepares weather data for machine learning by encoding categorical variables\n",
        "    and separating features from target.\n",
        "\n",
        "    Args:\n",
        "        data (pd.DataFrame): Raw weather data containing numerical/categorical features and target.\n",
        "        target_col (str): Name of the target column. Default is 'RainTomorrow'.\n",
        "        categorical_cols (list): List of categorical columns to encode. Default is ['WindGustDir'].\n",
        "        feature_cols (list): List of feature columns to keep. If None, will auto-select all except target.\n",
        "\n",
        "    Returns:\n",
        "        tuple: (X_features, y_target, label_encoders)\n",
        "            X_features (pd.DataFrame): Model features\n",
        "            y_target (pd.Series): Target values\n",
        "            label_encoders (dict): Mapping of column -> LabelEncoder used\n",
        "    \"\"\"\n",
        "    df = data.copy()\n",
        "\n",
        "    # Default categorical columns\n",
        "    if categorical_cols is None:\n",
        "        categorical_cols = ['WindGustDir']\n",
        "\n",
        "    # Initialize dictionary to store encoders\n",
        "    label_encoders = {}\n",
        "\n",
        "    # Encode categorical columns\n",
        "    for col in categorical_cols:\n",
        "        if col in df.columns:\n",
        "            le = LabelEncoder()\n",
        "            df[col] = le.fit_transform(df[col].astype(str))\n",
        "            label_encoders[col] = le\n",
        "\n",
        "    # Encode RainTomorrow target (if it's binary text)\n",
        "    if target_col in df.columns and df[target_col].dtype == object:\n",
        "        df[target_col] = df[target_col].map({'No': 0, 'Yes': 1})\n",
        "\n",
        "    # If no features specified, use all columns except target\n",
        "    if feature_cols is None:\n",
        "        feature_cols = [col for col in df.columns if col != target_col]\n",
        "\n",
        "    # Ensure features exist\n",
        "    available_cols = [col for col in feature_cols if col in df.columns]\n",
        "    if not available_cols:\n",
        "        raise ValueError(\"No valid feature columns found in dataset.\")\n",
        "\n",
        "    # Prepare X and y\n",
        "    X = df[available_cols]\n",
        "    y = df[target_col] if target_col in df.columns else None\n",
        "\n",
        "    return X, y, label_encoders\n"
      ],
      "metadata": {
        "id": "8c1NhxQ96lZp"
      },
      "execution_count": null,
      "outputs": []
    },
    {
      "cell_type": "markdown",
      "source": [
        "4. Train Rain Prediction Model"
      ],
      "metadata": {
        "id": "xkJjs1gqR6cp"
      }
    },
    {
      "cell_type": "code",
      "source": [
        "def train_rain_model(X, y):\n",
        "    \"\"\"\n",
        "    Trains a Random Forest classifier to predict rain occurrence.\n",
        "\n",
        "    Args:\n",
        "        X (pd.DataFrame): Weather features (Temperature, Humidity, etc.)\n",
        "        y (pd.Series): Target variable (1 = Rain, 0 = No Rain)\n",
        "\n",
        "    Returns:\n",
        "        tuple: (trained_model, test_metrics)\n",
        "            - trained_model: Fitted RandomForestClassifier\n",
        "            - test_metrics: Dictionary of evaluation metrics\n",
        "    \"\"\"\n",
        "    # Split data (stratified to maintain class balance)\n",
        "    X_train, X_test, y_train, y_test = train_test_split(\n",
        "        X, y,\n",
        "        test_size=0.2,\n",
        "        random_state=42,\n",
        "        stratify=y\n",
        "    )\n",
        "\n",
        "    # Initialize and train model\n",
        "    model = RandomForestClassifier(\n",
        "        n_estimators=100,\n",
        "        random_state=42,\n",
        "        class_weight='balanced'  # Handles imbalanced classes\n",
        "    )\n",
        "    model.fit(X_train, y_train)\n",
        "\n",
        "    # Generate predictions\n",
        "    y_pred = model.predict(X_test)\n",
        "    y_prob = model.predict_proba(X_test)[:, 1]  # Probability scores\n",
        "\n",
        "    # Calculate evaluation metrics\n",
        "    metrics = {\n",
        "        'accuracy': accuracy_score(y_test, y_pred),\n",
        "        'precision': precision_score(y_test, y_pred),\n",
        "        'recall': recall_score(y_test, y_pred),\n",
        "        'f1': f1_score(y_test, y_pred),\n",
        "        'confusion_matrix': confusion_matrix(y_test, y_pred),\n",
        "        'roc_auc': roc_auc_score(y_test, y_prob),\n",
        "        'feature_importances': dict(zip(X.columns, model.feature_importances_))\n",
        "    }\n",
        "\n",
        "    print(\"\\nRain Prediction Model Evaluation:\")\n",
        "    print(f\"- Accuracy: {metrics['accuracy']:.2f}\")\n",
        "    print(f\"- Precision: {metrics['precision']:.2f}\")\n",
        "    print(f\"- Recall: {metrics['recall']:.2f}\")\n",
        "    print(f\"- F1 Score: {metrics['f1']:.2f}\")\n",
        "    print(\"\\nConfusion Matrix:\")\n",
        "    print(metrics['confusion_matrix'])\n",
        "\n",
        "    return model, metrics"
      ],
      "metadata": {
        "id": "tyf2P47aSUYP"
      },
      "execution_count": null,
      "outputs": []
    },
    {
      "cell_type": "markdown",
      "source": [
        "5. Prepare Regression Data"
      ],
      "metadata": {
        "id": "Dam6CuQrVQ4m"
      }
    },
    {
      "cell_type": "code",
      "source": [
        "def prepare_regression_data(\n",
        "    data: pd.DataFrame,\n",
        "    feature_cols,\n",
        "    target_col=None,\n",
        "    lookback=1,\n",
        "    scale_data=True\n",
        "):\n",
        "    \"\"\"\n",
        "    Prepares time-series data for regression using sliding windows.\n",
        "\n",
        "    Args:\n",
        "        data (pd.DataFrame): Input dataframe with time-series.\n",
        "        feature_cols (str or list): Column(s) to use as features.\n",
        "        target_col (str, optional): Column to predict. If None, uses the same as feature_cols[0].\n",
        "        lookback (int): Number of lagged steps to include in each sample.\n",
        "        scale_data (bool): Whether to standardize features and target.\n",
        "\n",
        "    Returns:\n",
        "        tuple: (X_features, y_target, feature_scaler, target_scaler)\n",
        "            - X_features: np.ndarray of shape (samples, lookback, num_features)\n",
        "            - y_target: np.ndarray of shape (samples,)\n",
        "            - feature_scaler: StandardScaler or None\n",
        "            - target_scaler: StandardScaler or None\n",
        "    \"\"\"\n",
        "    # Ensure feature_cols is a list\n",
        "    if isinstance(feature_cols, str):\n",
        "        feature_cols = [feature_cols]\n",
        "\n",
        "    # Validate columns\n",
        "    missing_features = [col for col in feature_cols if col not in data.columns]\n",
        "    if missing_features:\n",
        "        raise ValueError(f\"Feature columns not found in data: {missing_features}\")\n",
        "\n",
        "    if target_col is None:\n",
        "        target_col = feature_cols[0]\n",
        "\n",
        "    if target_col not in data.columns:\n",
        "        raise ValueError(f\"Target column '{target_col}' not found in data\")\n",
        "\n",
        "    if len(data) <= lookback:\n",
        "        raise ValueError(f\"Need at least {lookback+1} samples, got {len(data)}\")\n",
        "\n",
        "    # Extract features and target\n",
        "    feature_values = data[feature_cols].values\n",
        "    target_values = data[target_col].values\n",
        "\n",
        "    # Create sliding windows\n",
        "    X, y = [], []\n",
        "    for i in range(len(data) - lookback):\n",
        "        X.append(feature_values[i:i+lookback])\n",
        "        y.append(target_values[i+lookback])\n",
        "    X, y = np.array(X), np.array(y)\n",
        "\n",
        "    # Scale features and target separately if needed\n",
        "    feature_scaler, target_scaler = None, None\n",
        "    if scale_data:\n",
        "        feature_scaler = StandardScaler()\n",
        "        target_scaler = StandardScaler()\n",
        "\n",
        "        # Flatten X for scaling then reshape back\n",
        "        X_shape = X.shape\n",
        "        X = feature_scaler.fit_transform(X.reshape(-1, X_shape[2])).reshape(X_shape)\n",
        "        y = target_scaler.fit_transform(y.reshape(-1, 1)).flatten()\n",
        "\n",
        "    return X, y, feature_scaler, target_scaler\n",
        "# Key Improvements\n",
        "# Multiple features support - works for univariate or multivariate time series.\n",
        "\n",
        "# Separate scaling for features and target - prevents leakage of target scale into features.\n",
        "\n",
        "# Lookback validation - avoids index errors.\n",
        "\n",
        "# Automatic reshaping so LSTM gets data in (samples, timesteps, features) format directly.\n",
        "\n",
        "# Flexible target - You can forecast a different variable than the one in feature_cols.\n",
        "\n",
        "# Example Usage\n",
        "# python\n",
        "# Copy\n",
        "# Edit\n",
        "# # Example for univariate temperature forecast\n",
        "# X, y, f_scaler, t_scaler = prepare_regression_data(df, feature_cols='temperature_mean', lookback=72)\n",
        "\n",
        "# # Example for multivariate forecasting (temp, humidity, rainfall)\n",
        "# X, y, f_scaler, t_scaler = prepare_regression_data(\n",
        "#     df,\n",
        "#     feature_cols=['temperature_mean', 'relative_humidity_mean', 'rainfall_daily'],\n",
        "#     target_col='temperature_mean',\n",
        "#     lookback=72\n",
        "# )"
      ],
      "metadata": {
        "id": "TEvZFFWjVfNj"
      },
      "execution_count": null,
      "outputs": []
    },
    {
      "cell_type": "markdown",
      "source": [
        "Future Prediction"
      ],
      "metadata": {
        "id": "uyuMoIP_67y1"
      }
    },
    {
      "cell_type": "code",
      "source": [
        "def predict_future(model, last_data, steps=5, model_type='lstm', scaler=None):\n",
        "    \"\"\"\n",
        "    Makes future predictions using either LSTM or Random Forest models.\n",
        "\n",
        "    Args:\n",
        "        model: Trained model (LSTM or RandomForest)\n",
        "        last_data: Last observed sequence/features:\n",
        "            - For LSTM: numpy array of shape (lookback, n_features)\n",
        "            - For RF: numpy array of shape (n_features,)\n",
        "        steps: Number of future steps to predict\n",
        "        model_type: 'lstm' or 'random_forest'\n",
        "        scaler: Scaler object (required for LSTM)\n",
        "\n",
        "    Returns:\n",
        "        list: Predictions for future time steps\n",
        "    \"\"\"\n",
        "    predictions = []\n",
        "    current_data = last_data.copy()\n",
        "\n",
        "    if model_type == 'lstm':\n",
        "        if scaler is None:\n",
        "            raise ValueError(\"Scaler must be provided for LSTM predictions\")\n",
        "\n",
        "        for _ in range(steps):\n",
        "            # Reshape for LSTM input (1 sample, lookback steps, n_features)\n",
        "            pred = model.predict(current_data[np.newaxis, :, :])[0, 0]\n",
        "            predictions.append(pred)\n",
        "\n",
        "            # Update sequence\n",
        "            current_data = np.roll(current_data, -1, axis=0)\n",
        "            current_data[-1] = pred\n",
        "\n",
        "        # Inverse transform predictions\n",
        "        predictions = scaler.inverse_transform(\n",
        "            np.array(predictions).reshape(-1, 1)\n",
        "        ).flatten()\n",
        "\n",
        "    elif model_type == 'random_forest':\n",
        "        for _ in range(steps):\n",
        "            pred = model.predict(current_data.reshape(1, -1))[0]\n",
        "            predictions.append(pred)\n",
        "\n",
        "            # Update features (assuming last feature is the target)\n",
        "            current_data = np.roll(current_data, -1)\n",
        "            current_data[-1] = pred\n",
        "\n",
        "    else:\n",
        "        raise ValueError(\"model_type must be 'lstm' or 'random_forest'\")\n",
        "\n",
        "    return predictions.tolist() if hasattr(predictions, 'tolist') else predictions"
      ],
      "metadata": {
        "id": "33sVtbTFkBdI"
      },
      "execution_count": null,
      "outputs": []
    },
    {
      "cell_type": "markdown",
      "source": [
        "5. Train Regression Model"
      ],
      "metadata": {
        "id": "2z6yKW6rbnMM"
      }
    },
    {
      "cell_type": "code",
      "source": [
        "def train_regression_model(X, y, test_size=0.2, scale_features=True, verbose=True):\n",
        "    \"\"\"\n",
        "    Trains a Random Forest regression model for weather forecasting with full evaluation.\n",
        "\n",
        "    Args:\n",
        "        X (pd.DataFrame/ndarray): Features (Temperature, Humidity, etc.)\n",
        "        y (pd.Series/ndarray): Target (Rainfall amount, Temperature, etc.)\n",
        "        test_size (float): Proportion for test split (default=0.2)\n",
        "        scale_features (bool): Whether to scale features (default=True)\n",
        "        verbose (bool): Print evaluation metrics (default=True)\n",
        "\n",
        "    Returns:\n",
        "        tuple: (trained_model, test_metrics, scaler)\n",
        "            - model: Fitted RandomForestRegressor\n",
        "            - metrics: Dictionary of evaluation scores\n",
        "            - scaler: Fitted scaler if scale_features=True, else None\n",
        "    \"\"\"\n",
        "    # Data validation\n",
        "    if len(X) != len(y):\n",
        "        raise ValueError(f\"X/y length mismatch: {len(X)} vs {len(y)}\")\n",
        "\n",
        "    # Train-test split with temporal consistency (shuffle=False for time series)\n",
        "    X_train, X_test, y_train, y_test = train_test_split(\n",
        "        X, y, test_size=test_size, shuffle=False, random_state=42\n",
        "    )\n",
        "\n",
        "    # Feature scaling\n",
        "    scaler = StandardScaler() if scale_features else None\n",
        "    if scaler:\n",
        "        X_train = scaler.fit_transform(X_train)\n",
        "        X_test = scaler.transform(X_test)\n",
        "\n",
        "    # Initialize and train model\n",
        "    model = RandomForestRegressor(\n",
        "        n_estimators=100,\n",
        "        random_state=42,\n",
        "        min_samples_leaf=5,  # Prevent overfitting\n",
        "        n_jobs=-1           # Use all CPU cores\n",
        "    )\n",
        "    model.fit(X_train, y_train)\n",
        "\n",
        "    # Generate predictions\n",
        "    y_pred = model.predict(X_test)\n",
        "\n",
        "    # Calculate evaluation metrics\n",
        "    metrics = {\n",
        "        'mse': mean_squared_error(y_test, y_pred),\n",
        "        'rmse': np.sqrt(mean_squared_error(y_test, y_pred)),\n",
        "        'mae': mean_absolute_error(y_test, y_pred),\n",
        "        'r2': r2_score(y_test, y_pred),\n",
        "        'explained_variance': explained_variance_score(y_test, y_pred),\n",
        "        'feature_importances': dict(zip(X.columns, model.feature_importances_))\n",
        "    }\n",
        "\n",
        "    if verbose:\n",
        "        print(\"\\nRegression Model Evaluation:\")\n",
        "        print(f\"- RMSE: {metrics['rmse']:.2f}\")\n",
        "        print(f\"- MAE: {metrics['mae']:.2f}\")\n",
        "        print(f\"- R²: {metrics['r2']:.2f}\")\n",
        "        print(\"\\nTop Features:\")\n",
        "        for feat, imp in sorted(metrics['feature_importances'].items(),\n",
        "                              key=lambda x: x[1], reverse=True)[:3]:\n",
        "            print(f\"  {feat}: {imp:.2%}\")\n",
        "\n",
        "    return model, metrics, scaler"
      ],
      "metadata": {
        "id": "00X6uIOKb0E7"
      },
      "execution_count": null,
      "outputs": []
    },
    {
      "cell_type": "markdown",
      "source": [
        "6. Prepare LSMT Data"
      ],
      "metadata": {
        "id": "lvg5w3fyag_A"
      }
    },
    {
      "cell_type": "code",
      "source": [
        "def prepare_lstm_data(\n",
        "    data: pd.DataFrame,\n",
        "    feature_cols,\n",
        "    target_col,\n",
        "    lookback=30,\n",
        "    test_size=0.2,\n",
        "    scale_range=(0, 1)\n",
        "):\n",
        "    \"\"\"\n",
        "    Prepares time-series data for LSTM training.\n",
        "\n",
        "    Args:\n",
        "        data (pd.DataFrame): Weather data with datetime index or sequential rows.\n",
        "        feature_cols (str or list): Columns to use as features.\n",
        "        target_col (str): Column to predict (e.g., 'temperature_mean').\n",
        "        lookback (int): Number of time steps in each input sequence.\n",
        "        test_size (float): Proportion for test split.\n",
        "        scale_range (tuple): Min-max scaling range (default=(0, 1)).\n",
        "\n",
        "    Returns:\n",
        "        tuple: (X_train, y_train, X_test, y_test, feature_scaler, target_scaler)\n",
        "            X_train, X_test: Shape (samples, lookback, features)\n",
        "            y_train, y_test: Shape (samples,)\n",
        "            feature_scaler: MinMaxScaler fitted to features\n",
        "            target_scaler: MinMaxScaler fitted to target\n",
        "    \"\"\"\n",
        "    # Ensure feature_cols is a list\n",
        "    if isinstance(feature_cols, str):\n",
        "        feature_cols = [feature_cols]\n",
        "\n",
        "    # Validation\n",
        "    for col in feature_cols + [target_col]:\n",
        "        if col not in data.columns:\n",
        "            raise ValueError(f\"Column '{col}' not found in data\")\n",
        "    if len(data) < lookback * 2:\n",
        "        raise ValueError(f\"Need at least {lookback*2} samples, got {len(data)}\")\n",
        "\n",
        "    # Separate features and target\n",
        "    feature_data = data[feature_cols].values\n",
        "    target_data = data[[target_col]].values\n",
        "\n",
        "    # Scale features & target separately\n",
        "    feature_scaler = MinMaxScaler(feature_range=scale_range)\n",
        "    target_scaler = MinMaxScaler(feature_range=scale_range)\n",
        "    scaled_features = feature_scaler.fit_transform(feature_data)\n",
        "    scaled_target = target_scaler.fit_transform(target_data)\n",
        "\n",
        "    # Train/test split index\n",
        "    split_idx = int(len(scaled_features) * (1 - test_size))\n",
        "\n",
        "    # Prepare train and test sets\n",
        "    train_features = scaled_features[:split_idx]\n",
        "    test_features = scaled_features[split_idx - lookback:]  # Include overlap for sequence\n",
        "    train_target = scaled_target[:split_idx]\n",
        "    test_target = scaled_target[split_idx - lookback:]\n",
        "\n",
        "    # Create sequences\n",
        "    def create_sequences(features, target):\n",
        "        X, y = [], []\n",
        "        for i in range(lookback, len(features)):\n",
        "            X.append(features[i-lookback:i])\n",
        "            y.append(target[i])\n",
        "        return np.array(X), np.array(y)\n",
        "\n",
        "    X_train, y_train = create_sequences(train_features, train_target)\n",
        "    X_test, y_test = create_sequences(test_features, test_target)\n",
        "\n",
        "    # Final shapes: (samples, timesteps, features)\n",
        "    return X_train, y_train, X_test, y_test, feature_scaler, target_scaler"
      ],
      "metadata": {
        "id": "35h1WWA2atSs"
      },
      "execution_count": null,
      "outputs": []
    },
    {
      "cell_type": "markdown",
      "source": [
        "Train LSTM Data"
      ],
      "metadata": {
        "id": "AAct3UjegdDV"
      }
    },
    {
      "cell_type": "code",
      "source": [
        "def train_lstm_model(\n",
        "    X_train, y_train, X_test, y_test,\n",
        "    units=64,\n",
        "    epochs=50,\n",
        "    batch_size=32,\n",
        "    patience=5,\n",
        "    save_best_model_path=None\n",
        "):\n",
        "    \"\"\"\n",
        "    Trains an LSTM model on prepared weather data.\n",
        "\n",
        "    Args:\n",
        "        X_train (np.array): Training sequences (samples, timesteps, features)\n",
        "        y_train (np.array): Training targets\n",
        "        X_test (np.array): Test sequences\n",
        "        y_test (np.array): Test targets\n",
        "        units (int): LSTM units in the first layer (default=64)\n",
        "        epochs (int): Maximum training epochs (default=50)\n",
        "        batch_size (int): Batch size for training (default=32)\n",
        "        patience (int): Early stopping patience (default=5)\n",
        "        save_best_model_path (str): Optional file path to save the best model\n",
        "\n",
        "    Returns:\n",
        "        tuple: (model, history, train_time)\n",
        "            model: Trained Keras model\n",
        "            history: Training history object\n",
        "            train_time: Total training time in seconds\n",
        "    \"\"\"\n",
        "    # Build model\n",
        "    model = Sequential([\n",
        "        LSTM(units, return_sequences=True, input_shape=(X_train.shape[1], X_train.shape[2])),\n",
        "        Dropout(0.2),\n",
        "        LSTM(units // 2),\n",
        "        Dropout(0.2),\n",
        "        Dense(1)\n",
        "    ])\n",
        "\n",
        "    model.compile(\n",
        "        optimizer='adam',\n",
        "        loss='mse',\n",
        "        metrics=['mae']\n",
        "    )\n",
        "\n",
        "    # Callbacks\n",
        "    callbacks = [EarlyStopping(monitor='val_loss', patience=patience, restore_best_weights=True)]\n",
        "    if save_best_model_path:\n",
        "        callbacks.append(ModelCheckpoint(save_best_model_path, monitor='val_loss', save_best_only=True))\n",
        "\n",
        "    # Train model with timing\n",
        "    start_time = time.time()\n",
        "    history = model.fit(\n",
        "        X_train, y_train,\n",
        "        epochs=epochs,\n",
        "        batch_size=batch_size,\n",
        "        validation_data=(X_test, y_test),\n",
        "        callbacks=callbacks,\n",
        "        verbose=1\n",
        "    )\n",
        "    train_time = round(time.time() - start_time, 2)\n",
        "\n",
        "    print(f\"\\nTraining completed in {train_time} seconds.\")\n",
        "    return model, history, train_time"
      ],
      "metadata": {
        "id": "aZE_fIFogpJz"
      },
      "execution_count": null,
      "outputs": []
    },
    {
      "cell_type": "markdown",
      "source": [
        "Weather Analysis"
      ],
      "metadata": {
        "id": "1_hInetX4Kfv"
      }
    },
    {
      "cell_type": "code",
      "metadata": {
        "id": "bf931bf7",
        "colab": {
          "base_uri": "https://localhost:8080/",
          "height": 889
        },
        "outputId": "93ed8345-fc8c-4299-cb49-2d0f0fcd0a25"
      },
      "source": [
        "df_hourly_weather = pd.read_csv('/content/hourly_akimoda.csv')\n",
        "display(df_hourly_weather.head())\n",
        "display(df_hourly_weather.info())"
      ],
      "execution_count": null,
      "outputs": [
        {
          "output_type": "display_data",
          "data": {
            "text/plain": [
              "             timestamp  location     lat     lon  temperature  \\\n",
              "0  2010-01-01 00:00:00  Akim Oda  5.9344 -0.9856        28.54   \n",
              "1  2010-01-01 01:00:00  Akim Oda  5.9344 -0.9856        27.38   \n",
              "2  2010-01-01 02:00:00  Akim Oda  5.9344 -0.9856        26.87   \n",
              "3  2010-01-01 03:00:00  Akim Oda  5.9344 -0.9856        26.40   \n",
              "4  2010-01-01 04:00:00  Akim Oda  5.9344 -0.9856        24.68   \n",
              "\n",
              "   temperature_min  temperature_max  relative_humidity  rainfall_mm_per_hr  \\\n",
              "0            25.95            30.64               71.8                 0.0   \n",
              "1            25.62            28.41               62.6                 0.0   \n",
              "2            24.63            28.60               67.9                 0.0   \n",
              "3            24.47            28.42               72.7                 0.0   \n",
              "4            22.28            27.36               74.3                 0.0   \n",
              "\n",
              "   rain_flag  rainfall_probability  wind_speed_m_s wind_direction  \\\n",
              "0          0                 0.216            3.23              S   \n",
              "1          0                 0.274            3.39              W   \n",
              "2          0                 0.391            3.78             SW   \n",
              "3          0                 0.265            2.61             SE   \n",
              "4          0                 0.382            2.58             NW   \n",
              "\n",
              "   solar_radiation_w_m2  sunshine_norm  evapotranspiration_mm_hr  \\\n",
              "0                 25.61            0.0                       0.0   \n",
              "1                  0.00            0.0                       0.0   \n",
              "2                  0.00            0.0                       0.0   \n",
              "3                  0.00            0.0                       0.0   \n",
              "4                  1.52            0.0                       0.0   \n",
              "\n",
              "   soil_moisture  heat_index  drought_index  \n",
              "0           0.28       27.71              0  \n",
              "1           0.28       26.25              0  \n",
              "2           0.28       25.57              0  \n",
              "3           0.28       26.01              0  \n",
              "4           0.28       24.34              0  "
            ],
            "text/html": [
              "\n",
              "  <div id=\"df-f3889ab7-bd76-4539-b89f-43e15bcc7036\" class=\"colab-df-container\">\n",
              "    <div>\n",
              "<style scoped>\n",
              "    .dataframe tbody tr th:only-of-type {\n",
              "        vertical-align: middle;\n",
              "    }\n",
              "\n",
              "    .dataframe tbody tr th {\n",
              "        vertical-align: top;\n",
              "    }\n",
              "\n",
              "    .dataframe thead th {\n",
              "        text-align: right;\n",
              "    }\n",
              "</style>\n",
              "<table border=\"1\" class=\"dataframe\">\n",
              "  <thead>\n",
              "    <tr style=\"text-align: right;\">\n",
              "      <th></th>\n",
              "      <th>timestamp</th>\n",
              "      <th>location</th>\n",
              "      <th>lat</th>\n",
              "      <th>lon</th>\n",
              "      <th>temperature</th>\n",
              "      <th>temperature_min</th>\n",
              "      <th>temperature_max</th>\n",
              "      <th>relative_humidity</th>\n",
              "      <th>rainfall_mm_per_hr</th>\n",
              "      <th>rain_flag</th>\n",
              "      <th>rainfall_probability</th>\n",
              "      <th>wind_speed_m_s</th>\n",
              "      <th>wind_direction</th>\n",
              "      <th>solar_radiation_w_m2</th>\n",
              "      <th>sunshine_norm</th>\n",
              "      <th>evapotranspiration_mm_hr</th>\n",
              "      <th>soil_moisture</th>\n",
              "      <th>heat_index</th>\n",
              "      <th>drought_index</th>\n",
              "    </tr>\n",
              "  </thead>\n",
              "  <tbody>\n",
              "    <tr>\n",
              "      <th>0</th>\n",
              "      <td>2010-01-01 00:00:00</td>\n",
              "      <td>Akim Oda</td>\n",
              "      <td>5.9344</td>\n",
              "      <td>-0.9856</td>\n",
              "      <td>28.54</td>\n",
              "      <td>25.95</td>\n",
              "      <td>30.64</td>\n",
              "      <td>71.8</td>\n",
              "      <td>0.0</td>\n",
              "      <td>0</td>\n",
              "      <td>0.216</td>\n",
              "      <td>3.23</td>\n",
              "      <td>S</td>\n",
              "      <td>25.61</td>\n",
              "      <td>0.0</td>\n",
              "      <td>0.0</td>\n",
              "      <td>0.28</td>\n",
              "      <td>27.71</td>\n",
              "      <td>0</td>\n",
              "    </tr>\n",
              "    <tr>\n",
              "      <th>1</th>\n",
              "      <td>2010-01-01 01:00:00</td>\n",
              "      <td>Akim Oda</td>\n",
              "      <td>5.9344</td>\n",
              "      <td>-0.9856</td>\n",
              "      <td>27.38</td>\n",
              "      <td>25.62</td>\n",
              "      <td>28.41</td>\n",
              "      <td>62.6</td>\n",
              "      <td>0.0</td>\n",
              "      <td>0</td>\n",
              "      <td>0.274</td>\n",
              "      <td>3.39</td>\n",
              "      <td>W</td>\n",
              "      <td>0.00</td>\n",
              "      <td>0.0</td>\n",
              "      <td>0.0</td>\n",
              "      <td>0.28</td>\n",
              "      <td>26.25</td>\n",
              "      <td>0</td>\n",
              "    </tr>\n",
              "    <tr>\n",
              "      <th>2</th>\n",
              "      <td>2010-01-01 02:00:00</td>\n",
              "      <td>Akim Oda</td>\n",
              "      <td>5.9344</td>\n",
              "      <td>-0.9856</td>\n",
              "      <td>26.87</td>\n",
              "      <td>24.63</td>\n",
              "      <td>28.60</td>\n",
              "      <td>67.9</td>\n",
              "      <td>0.0</td>\n",
              "      <td>0</td>\n",
              "      <td>0.391</td>\n",
              "      <td>3.78</td>\n",
              "      <td>SW</td>\n",
              "      <td>0.00</td>\n",
              "      <td>0.0</td>\n",
              "      <td>0.0</td>\n",
              "      <td>0.28</td>\n",
              "      <td>25.57</td>\n",
              "      <td>0</td>\n",
              "    </tr>\n",
              "    <tr>\n",
              "      <th>3</th>\n",
              "      <td>2010-01-01 03:00:00</td>\n",
              "      <td>Akim Oda</td>\n",
              "      <td>5.9344</td>\n",
              "      <td>-0.9856</td>\n",
              "      <td>26.40</td>\n",
              "      <td>24.47</td>\n",
              "      <td>28.42</td>\n",
              "      <td>72.7</td>\n",
              "      <td>0.0</td>\n",
              "      <td>0</td>\n",
              "      <td>0.265</td>\n",
              "      <td>2.61</td>\n",
              "      <td>SE</td>\n",
              "      <td>0.00</td>\n",
              "      <td>0.0</td>\n",
              "      <td>0.0</td>\n",
              "      <td>0.28</td>\n",
              "      <td>26.01</td>\n",
              "      <td>0</td>\n",
              "    </tr>\n",
              "    <tr>\n",
              "      <th>4</th>\n",
              "      <td>2010-01-01 04:00:00</td>\n",
              "      <td>Akim Oda</td>\n",
              "      <td>5.9344</td>\n",
              "      <td>-0.9856</td>\n",
              "      <td>24.68</td>\n",
              "      <td>22.28</td>\n",
              "      <td>27.36</td>\n",
              "      <td>74.3</td>\n",
              "      <td>0.0</td>\n",
              "      <td>0</td>\n",
              "      <td>0.382</td>\n",
              "      <td>2.58</td>\n",
              "      <td>NW</td>\n",
              "      <td>1.52</td>\n",
              "      <td>0.0</td>\n",
              "      <td>0.0</td>\n",
              "      <td>0.28</td>\n",
              "      <td>24.34</td>\n",
              "      <td>0</td>\n",
              "    </tr>\n",
              "  </tbody>\n",
              "</table>\n",
              "</div>\n",
              "    <div class=\"colab-df-buttons\">\n",
              "\n",
              "  <div class=\"colab-df-container\">\n",
              "    <button class=\"colab-df-convert\" onclick=\"convertToInteractive('df-f3889ab7-bd76-4539-b89f-43e15bcc7036')\"\n",
              "            title=\"Convert this dataframe to an interactive table.\"\n",
              "            style=\"display:none;\">\n",
              "\n",
              "  <svg xmlns=\"http://www.w3.org/2000/svg\" height=\"24px\" viewBox=\"0 -960 960 960\">\n",
              "    <path d=\"M120-120v-720h720v720H120Zm60-500h600v-160H180v160Zm220 220h160v-160H400v160Zm0 220h160v-160H400v160ZM180-400h160v-160H180v160Zm440 0h160v-160H620v160ZM180-180h160v-160H180v160Zm440 0h160v-160H620v160Z\"/>\n",
              "  </svg>\n",
              "    </button>\n",
              "\n",
              "  <style>\n",
              "    .colab-df-container {\n",
              "      display:flex;\n",
              "      gap: 12px;\n",
              "    }\n",
              "\n",
              "    .colab-df-convert {\n",
              "      background-color: #E8F0FE;\n",
              "      border: none;\n",
              "      border-radius: 50%;\n",
              "      cursor: pointer;\n",
              "      display: none;\n",
              "      fill: #1967D2;\n",
              "      height: 32px;\n",
              "      padding: 0 0 0 0;\n",
              "      width: 32px;\n",
              "    }\n",
              "\n",
              "    .colab-df-convert:hover {\n",
              "      background-color: #E2EBFA;\n",
              "      box-shadow: 0px 1px 2px rgba(60, 64, 67, 0.3), 0px 1px 3px 1px rgba(60, 64, 67, 0.15);\n",
              "      fill: #174EA6;\n",
              "    }\n",
              "\n",
              "    .colab-df-buttons div {\n",
              "      margin-bottom: 4px;\n",
              "    }\n",
              "\n",
              "    [theme=dark] .colab-df-convert {\n",
              "      background-color: #3B4455;\n",
              "      fill: #D2E3FC;\n",
              "    }\n",
              "\n",
              "    [theme=dark] .colab-df-convert:hover {\n",
              "      background-color: #434B5C;\n",
              "      box-shadow: 0px 1px 3px 1px rgba(0, 0, 0, 0.15);\n",
              "      filter: drop-shadow(0px 1px 2px rgba(0, 0, 0, 0.3));\n",
              "      fill: #FFFFFF;\n",
              "    }\n",
              "  </style>\n",
              "\n",
              "    <script>\n",
              "      const buttonEl =\n",
              "        document.querySelector('#df-f3889ab7-bd76-4539-b89f-43e15bcc7036 button.colab-df-convert');\n",
              "      buttonEl.style.display =\n",
              "        google.colab.kernel.accessAllowed ? 'block' : 'none';\n",
              "\n",
              "      async function convertToInteractive(key) {\n",
              "        const element = document.querySelector('#df-f3889ab7-bd76-4539-b89f-43e15bcc7036');\n",
              "        const dataTable =\n",
              "          await google.colab.kernel.invokeFunction('convertToInteractive',\n",
              "                                                    [key], {});\n",
              "        if (!dataTable) return;\n",
              "\n",
              "        const docLinkHtml = 'Like what you see? Visit the ' +\n",
              "          '<a target=\"_blank\" href=https://colab.research.google.com/notebooks/data_table.ipynb>data table notebook</a>'\n",
              "          + ' to learn more about interactive tables.';\n",
              "        element.innerHTML = '';\n",
              "        dataTable['output_type'] = 'display_data';\n",
              "        await google.colab.output.renderOutput(dataTable, element);\n",
              "        const docLink = document.createElement('div');\n",
              "        docLink.innerHTML = docLinkHtml;\n",
              "        element.appendChild(docLink);\n",
              "      }\n",
              "    </script>\n",
              "  </div>\n",
              "\n",
              "\n",
              "    <div id=\"df-50fd15c3-5192-45ea-9768-4d6440c0bb7d\">\n",
              "      <button class=\"colab-df-quickchart\" onclick=\"quickchart('df-50fd15c3-5192-45ea-9768-4d6440c0bb7d')\"\n",
              "                title=\"Suggest charts\"\n",
              "                style=\"display:none;\">\n",
              "\n",
              "<svg xmlns=\"http://www.w3.org/2000/svg\" height=\"24px\"viewBox=\"0 0 24 24\"\n",
              "     width=\"24px\">\n",
              "    <g>\n",
              "        <path d=\"M19 3H5c-1.1 0-2 .9-2 2v14c0 1.1.9 2 2 2h14c1.1 0 2-.9 2-2V5c0-1.1-.9-2-2-2zM9 17H7v-7h2v7zm4 0h-2V7h2v10zm4 0h-2v-4h2v4z\"/>\n",
              "    </g>\n",
              "</svg>\n",
              "      </button>\n",
              "\n",
              "<style>\n",
              "  .colab-df-quickchart {\n",
              "      --bg-color: #E8F0FE;\n",
              "      --fill-color: #1967D2;\n",
              "      --hover-bg-color: #E2EBFA;\n",
              "      --hover-fill-color: #174EA6;\n",
              "      --disabled-fill-color: #AAA;\n",
              "      --disabled-bg-color: #DDD;\n",
              "  }\n",
              "\n",
              "  [theme=dark] .colab-df-quickchart {\n",
              "      --bg-color: #3B4455;\n",
              "      --fill-color: #D2E3FC;\n",
              "      --hover-bg-color: #434B5C;\n",
              "      --hover-fill-color: #FFFFFF;\n",
              "      --disabled-bg-color: #3B4455;\n",
              "      --disabled-fill-color: #666;\n",
              "  }\n",
              "\n",
              "  .colab-df-quickchart {\n",
              "    background-color: var(--bg-color);\n",
              "    border: none;\n",
              "    border-radius: 50%;\n",
              "    cursor: pointer;\n",
              "    display: none;\n",
              "    fill: var(--fill-color);\n",
              "    height: 32px;\n",
              "    padding: 0;\n",
              "    width: 32px;\n",
              "  }\n",
              "\n",
              "  .colab-df-quickchart:hover {\n",
              "    background-color: var(--hover-bg-color);\n",
              "    box-shadow: 0 1px 2px rgba(60, 64, 67, 0.3), 0 1px 3px 1px rgba(60, 64, 67, 0.15);\n",
              "    fill: var(--button-hover-fill-color);\n",
              "  }\n",
              "\n",
              "  .colab-df-quickchart-complete:disabled,\n",
              "  .colab-df-quickchart-complete:disabled:hover {\n",
              "    background-color: var(--disabled-bg-color);\n",
              "    fill: var(--disabled-fill-color);\n",
              "    box-shadow: none;\n",
              "  }\n",
              "\n",
              "  .colab-df-spinner {\n",
              "    border: 2px solid var(--fill-color);\n",
              "    border-color: transparent;\n",
              "    border-bottom-color: var(--fill-color);\n",
              "    animation:\n",
              "      spin 1s steps(1) infinite;\n",
              "  }\n",
              "\n",
              "  @keyframes spin {\n",
              "    0% {\n",
              "      border-color: transparent;\n",
              "      border-bottom-color: var(--fill-color);\n",
              "      border-left-color: var(--fill-color);\n",
              "    }\n",
              "    20% {\n",
              "      border-color: transparent;\n",
              "      border-left-color: var(--fill-color);\n",
              "      border-top-color: var(--fill-color);\n",
              "    }\n",
              "    30% {\n",
              "      border-color: transparent;\n",
              "      border-left-color: var(--fill-color);\n",
              "      border-top-color: var(--fill-color);\n",
              "      border-right-color: var(--fill-color);\n",
              "    }\n",
              "    40% {\n",
              "      border-color: transparent;\n",
              "      border-right-color: var(--fill-color);\n",
              "      border-top-color: var(--fill-color);\n",
              "    }\n",
              "    60% {\n",
              "      border-color: transparent;\n",
              "      border-right-color: var(--fill-color);\n",
              "    }\n",
              "    80% {\n",
              "      border-color: transparent;\n",
              "      border-right-color: var(--fill-color);\n",
              "      border-bottom-color: var(--fill-color);\n",
              "    }\n",
              "    90% {\n",
              "      border-color: transparent;\n",
              "      border-bottom-color: var(--fill-color);\n",
              "    }\n",
              "  }\n",
              "</style>\n",
              "\n",
              "      <script>\n",
              "        async function quickchart(key) {\n",
              "          const quickchartButtonEl =\n",
              "            document.querySelector('#' + key + ' button');\n",
              "          quickchartButtonEl.disabled = true;  // To prevent multiple clicks.\n",
              "          quickchartButtonEl.classList.add('colab-df-spinner');\n",
              "          try {\n",
              "            const charts = await google.colab.kernel.invokeFunction(\n",
              "                'suggestCharts', [key], {});\n",
              "          } catch (error) {\n",
              "            console.error('Error during call to suggestCharts:', error);\n",
              "          }\n",
              "          quickchartButtonEl.classList.remove('colab-df-spinner');\n",
              "          quickchartButtonEl.classList.add('colab-df-quickchart-complete');\n",
              "        }\n",
              "        (() => {\n",
              "          let quickchartButtonEl =\n",
              "            document.querySelector('#df-50fd15c3-5192-45ea-9768-4d6440c0bb7d button');\n",
              "          quickchartButtonEl.style.display =\n",
              "            google.colab.kernel.accessAllowed ? 'block' : 'none';\n",
              "        })();\n",
              "      </script>\n",
              "    </div>\n",
              "\n",
              "    </div>\n",
              "  </div>\n"
            ],
            "application/vnd.google.colaboratory.intrinsic+json": {
              "type": "dataframe",
              "summary": "{\n  \"name\": \"display(df_hourly_weather\",\n  \"rows\": 5,\n  \"fields\": [\n    {\n      \"column\": \"timestamp\",\n      \"properties\": {\n        \"dtype\": \"object\",\n        \"num_unique_values\": 5,\n        \"samples\": [\n          \"2010-01-01 01:00:00\",\n          \"2010-01-01 04:00:00\",\n          \"2010-01-01 02:00:00\"\n        ],\n        \"semantic_type\": \"\",\n        \"description\": \"\"\n      }\n    },\n    {\n      \"column\": \"location\",\n      \"properties\": {\n        \"dtype\": \"category\",\n        \"num_unique_values\": 1,\n        \"samples\": [\n          \"Akim Oda\"\n        ],\n        \"semantic_type\": \"\",\n        \"description\": \"\"\n      }\n    },\n    {\n      \"column\": \"lat\",\n      \"properties\": {\n        \"dtype\": \"number\",\n        \"std\": 0.0,\n        \"min\": 5.9344,\n        \"max\": 5.9344,\n        \"num_unique_values\": 1,\n        \"samples\": [\n          5.9344\n        ],\n        \"semantic_type\": \"\",\n        \"description\": \"\"\n      }\n    },\n    {\n      \"column\": \"lon\",\n      \"properties\": {\n        \"dtype\": \"number\",\n        \"std\": 0.0,\n        \"min\": -0.9856,\n        \"max\": -0.9856,\n        \"num_unique_values\": 1,\n        \"samples\": [\n          -0.9856\n        ],\n        \"semantic_type\": \"\",\n        \"description\": \"\"\n      }\n    },\n    {\n      \"column\": \"temperature\",\n      \"properties\": {\n        \"dtype\": \"number\",\n        \"std\": 1.4159731635875024,\n        \"min\": 24.68,\n        \"max\": 28.54,\n        \"num_unique_values\": 5,\n        \"samples\": [\n          27.38\n        ],\n        \"semantic_type\": \"\",\n        \"description\": \"\"\n      }\n    },\n    {\n      \"column\": \"temperature_min\",\n      \"properties\": {\n        \"dtype\": \"number\",\n        \"std\": 1.437236932450596,\n        \"min\": 22.28,\n        \"max\": 25.95,\n        \"num_unique_values\": 5,\n        \"samples\": [\n          25.62\n        ],\n        \"semantic_type\": \"\",\n        \"description\": \"\"\n      }\n    },\n    {\n      \"column\": \"temperature_max\",\n      \"properties\": {\n        \"dtype\": \"number\",\n        \"std\": 1.1969461140753166,\n        \"min\": 27.36,\n        \"max\": 30.64,\n        \"num_unique_values\": 5,\n        \"samples\": [\n          28.41\n        ],\n        \"semantic_type\": \"\",\n        \"description\": \"\"\n      }\n    },\n    {\n      \"column\": \"relative_humidity\",\n      \"properties\": {\n        \"dtype\": \"number\",\n        \"std\": 4.692866927582752,\n        \"min\": 62.6,\n        \"max\": 74.3,\n        \"num_unique_values\": 5,\n        \"samples\": [\n          62.6\n        ],\n        \"semantic_type\": \"\",\n        \"description\": \"\"\n      }\n    },\n    {\n      \"column\": \"rainfall_mm_per_hr\",\n      \"properties\": {\n        \"dtype\": \"number\",\n        \"std\": 0.0,\n        \"min\": 0.0,\n        \"max\": 0.0,\n        \"num_unique_values\": 1,\n        \"samples\": [\n          0.0\n        ],\n        \"semantic_type\": \"\",\n        \"description\": \"\"\n      }\n    },\n    {\n      \"column\": \"rain_flag\",\n      \"properties\": {\n        \"dtype\": \"number\",\n        \"std\": 0,\n        \"min\": 0,\n        \"max\": 0,\n        \"num_unique_values\": 1,\n        \"samples\": [\n          0\n        ],\n        \"semantic_type\": \"\",\n        \"description\": \"\"\n      }\n    },\n    {\n      \"column\": \"rainfall_probability\",\n      \"properties\": {\n        \"dtype\": \"number\",\n        \"std\": 0.07714466929088491,\n        \"min\": 0.216,\n        \"max\": 0.391,\n        \"num_unique_values\": 5,\n        \"samples\": [\n          0.274\n        ],\n        \"semantic_type\": \"\",\n        \"description\": \"\"\n      }\n    },\n    {\n      \"column\": \"wind_speed_m_s\",\n      \"properties\": {\n        \"dtype\": \"number\",\n        \"std\": 0.5177547682059529,\n        \"min\": 2.58,\n        \"max\": 3.78,\n        \"num_unique_values\": 5,\n        \"samples\": [\n          3.39\n        ],\n        \"semantic_type\": \"\",\n        \"description\": \"\"\n      }\n    },\n    {\n      \"column\": \"wind_direction\",\n      \"properties\": {\n        \"dtype\": \"string\",\n        \"num_unique_values\": 5,\n        \"samples\": [\n          \"W\"\n        ],\n        \"semantic_type\": \"\",\n        \"description\": \"\"\n      }\n    },\n    {\n      \"column\": \"solar_radiation_w_m2\",\n      \"properties\": {\n        \"dtype\": \"number\",\n        \"std\": 11.302379395507833,\n        \"min\": 0.0,\n        \"max\": 25.61,\n        \"num_unique_values\": 3,\n        \"samples\": [\n          25.61\n        ],\n        \"semantic_type\": \"\",\n        \"description\": \"\"\n      }\n    },\n    {\n      \"column\": \"sunshine_norm\",\n      \"properties\": {\n        \"dtype\": \"number\",\n        \"std\": 0.0,\n        \"min\": 0.0,\n        \"max\": 0.0,\n        \"num_unique_values\": 1,\n        \"samples\": [\n          0.0\n        ],\n        \"semantic_type\": \"\",\n        \"description\": \"\"\n      }\n    },\n    {\n      \"column\": \"evapotranspiration_mm_hr\",\n      \"properties\": {\n        \"dtype\": \"number\",\n        \"std\": 0.0,\n        \"min\": 0.0,\n        \"max\": 0.0,\n        \"num_unique_values\": 1,\n        \"samples\": [\n          0.0\n        ],\n        \"semantic_type\": \"\",\n        \"description\": \"\"\n      }\n    },\n    {\n      \"column\": \"soil_moisture\",\n      \"properties\": {\n        \"dtype\": \"number\",\n        \"std\": 0.0,\n        \"min\": 0.28,\n        \"max\": 0.28,\n        \"num_unique_values\": 1,\n        \"samples\": [\n          0.28\n        ],\n        \"semantic_type\": \"\",\n        \"description\": \"\"\n      }\n    },\n    {\n      \"column\": \"heat_index\",\n      \"properties\": {\n        \"dtype\": \"number\",\n        \"std\": 1.2169963023772918,\n        \"min\": 24.34,\n        \"max\": 27.71,\n        \"num_unique_values\": 5,\n        \"samples\": [\n          26.25\n        ],\n        \"semantic_type\": \"\",\n        \"description\": \"\"\n      }\n    },\n    {\n      \"column\": \"drought_index\",\n      \"properties\": {\n        \"dtype\": \"number\",\n        \"std\": 0,\n        \"min\": 0,\n        \"max\": 0,\n        \"num_unique_values\": 1,\n        \"samples\": [\n          0\n        ],\n        \"semantic_type\": \"\",\n        \"description\": \"\"\n      }\n    }\n  ]\n}"
            }
          },
          "metadata": {}
        },
        {
          "output_type": "stream",
          "name": "stdout",
          "text": [
            "<class 'pandas.core.frame.DataFrame'>\n",
            "RangeIndex: 131496 entries, 0 to 131495\n",
            "Data columns (total 19 columns):\n",
            " #   Column                    Non-Null Count   Dtype  \n",
            "---  ------                    --------------   -----  \n",
            " 0   timestamp                 131496 non-null  object \n",
            " 1   location                  131496 non-null  object \n",
            " 2   lat                       131496 non-null  float64\n",
            " 3   lon                       131496 non-null  float64\n",
            " 4   temperature               131496 non-null  float64\n",
            " 5   temperature_min           131496 non-null  float64\n",
            " 6   temperature_max           131496 non-null  float64\n",
            " 7   relative_humidity         131496 non-null  float64\n",
            " 8   rainfall_mm_per_hr        131496 non-null  float64\n",
            " 9   rain_flag                 131496 non-null  int64  \n",
            " 10  rainfall_probability      131496 non-null  float64\n",
            " 11  wind_speed_m_s            131496 non-null  float64\n",
            " 12  wind_direction            131496 non-null  object \n",
            " 13  solar_radiation_w_m2      131496 non-null  float64\n",
            " 14  sunshine_norm             131496 non-null  float64\n",
            " 15  evapotranspiration_mm_hr  131496 non-null  float64\n",
            " 16  soil_moisture             131496 non-null  float64\n",
            " 17  heat_index                131496 non-null  float64\n",
            " 18  drought_index             131496 non-null  int64  \n",
            "dtypes: float64(14), int64(2), object(3)\n",
            "memory usage: 19.1+ MB\n"
          ]
        },
        {
          "output_type": "display_data",
          "data": {
            "text/plain": [
              "None"
            ]
          },
          "metadata": {}
        }
      ]
    },
    {
      "cell_type": "code",
      "metadata": {
        "collapsed": true,
        "id": "16bab7cc",
        "colab": {
          "base_uri": "https://localhost:8080/"
        },
        "outputId": "218af281-13f6-47a4-afa0-706bdfa5cbad"
      },
      "source": [
        "# 1. Examine the columns\n",
        "print(\"Columns in the dataset:\")\n",
        "print(df_hourly_weather.columns)\n",
        "\n",
        "# 2. Determine relevant features\n",
        "# Select features commonly used in weather forecasting\n",
        "selected_features = [\n",
        "    'temperature',\n",
        "    'humidity',\n",
        "    'wind_speed',\n",
        "    'pressure',\n",
        "    'cloud_cover',\n",
        "    'precipitation',\n",
        "    'shortwave_radiation',\n",
        "    'diffuse_radiation'\n",
        "]\n",
        "\n",
        "# Ensure selected features are in the DataFrame\n",
        "relevant_features = [\n",
        "    feature for feature in selected_features if feature in df_hourly_weather.columns\n",
        "]\n",
        "\n",
        "# 3. Create a list of selected feature columns\n",
        "print(\"\\nSelected relevant features for forecasting:\")\n",
        "print(relevant_features)"
      ],
      "execution_count": null,
      "outputs": [
        {
          "output_type": "stream",
          "name": "stdout",
          "text": [
            "Columns in the dataset:\n",
            "Index(['timestamp', 'location', 'lat', 'lon', 'temperature', 'temperature_min',\n",
            "       'temperature_max', 'relative_humidity', 'rainfall_mm_per_hr',\n",
            "       'rain_flag', 'rainfall_probability', 'wind_speed_m_s', 'wind_direction',\n",
            "       'solar_radiation_w_m2', 'sunshine_norm', 'evapotranspiration_mm_hr',\n",
            "       'soil_moisture', 'heat_index', 'drought_index'],\n",
            "      dtype='object')\n",
            "\n",
            "Selected relevant features for forecasting:\n",
            "['temperature']\n"
          ]
        }
      ]
    },
    {
      "source": [
        "# Enhanced visualization with insights\n",
        "# Set for better plots\n",
        "plt.style.use('seaborn-v0_8')\n",
        "fig, (ax1, ax2) = plt.subplots(1, 2, figsize=(15, 6))\n",
        "\n",
        "# Histogram with enhanced styling\n",
        "df_hourly_weather['wind_speed_m_s'].plot(kind='hist', bins=30, alpha=0.7,\n",
        "                                        title='Wind Speed Distribution',\n",
        "                                        ax=ax1, color='skyblue', edgecolor='black')\n",
        "ax1.set_xlabel('Wind Speed (m/s)')\n",
        "ax1.set_ylabel('Frequency')\n",
        "ax1.grid(True, alpha=0.3)\n",
        "\n",
        "# Box plot for outlier detection\n",
        "df_hourly_weather['wind_speed_m_s'].plot(kind='box', ax=ax2,\n",
        "                                        title='Wind Speed Box Plot')\n",
        "ax2.set_ylabel('Wind Speed (m/s)')\n",
        "ax2.grid(True, alpha=0.3)\n",
        "\n",
        "plt.tight_layout()\n",
        "plt.show()\n",
        "\n",
        "# Additional statistics\n",
        "print(f\"Wind Speed Statistics:\")\n",
        "print(f\"Mean: {df_hourly_weather['wind_speed_m_s'].mean():.2f} m/s\")\n",
        "print(f\"Median: {df_hourly_weather['wind_speed_m_s'].median():.2f} m/s\")\n",
        "print(f\"95th percentile: {df_hourly_weather['wind_speed_m_s'].quantile(0.95):.2f} m/s\")\n",
        "print(f\"Outliers (>Q3+1.5*IQR): {((df_hourly_weather['wind_speed_m_s'] > (df_hourly_weather['wind_speed_m_s'].quantile(0.75) + 1.5 * (df_hourly_weather['wind_speed_m_s'].quantile(0.75) - df_hourly_weather['wind_speed_m_s'].quantile(0.25))))).sum()}\")"
      ],
      "cell_type": "code",
      "metadata": {
        "id": "mexlZ6gCOoXE",
        "colab": {
          "base_uri": "https://localhost:8080/",
          "height": 371
        },
        "collapsed": true,
        "outputId": "0fdaa0e9-e5e6-4c80-ef28-fc89014650c4"
      },
      "execution_count": null,
      "outputs": [
        {
          "output_type": "display_data",
          "data": {
            "text/plain": [
              "<Figure size 1500x600 with 2 Axes>"
            ],
            "image/png": "[encoded data removed]"
          },
          "metadata": {}
        },
        {
          "output_type": "stream",
          "name": "stdout",
          "text": [
            "Wind Speed Statistics:\n",
            "Mean: 2.40 m/s\n",
            "Median: 2.40 m/s\n",
            "95th percentile: 3.49 m/s\n",
            "Outliers (>Q3+1.5*IQR): 441\n"
          ]
        }
      ]
    },
    {
      "cell_type": "code",
      "metadata": {
        "id": "997f159b"
      },
      "source": [
        "# Enhanced feature selection with correlation analysis and feature importance\n",
        "import pandas as pd\n",
        "import numpy as np\n",
        "from scipy.stats import pearsonr\n",
        "\n",
        "# Define target variable (assuming temperature prediction)\n",
        "target_column = 'temperature'  # Replace with your actual target\n",
        "if target_column not in df_hourly_weather.columns:\n",
        "    # If temperature column has different name, find it\n",
        "    temp_cols = [col for col in df_hourly_weather.columns if 'temp' in col.lower()]\n",
        "    target_column = temp_cols[0] if temp_cols else 'temperature'\n",
        "\n",
        "# Select relevant features based on multiple criteria\n",
        "def select_relevant_features(df, target_col, correlation_threshold=0.05, missing_threshold=0.3):\n",
        "    \"\"\"\n",
        "    Enhanced feature selection based on:\n",
        "    1. Missing value percentage\n",
        "    2. Correlation with target\n",
        "    3. Feature type (numeric)\n",
        "    4. Variance threshold\n",
        "    \"\"\"\n",
        "    relevant_features = []\n",
        "    feature_stats = {}\n",
        "\n",
        "    # Get numeric columns only\n",
        "    numeric_cols = df.select_dtypes(include=[np.number]).columns.tolist()\n",
        "\n",
        "    # Remove target from features temporarily for correlation calculation\n",
        "    temp_numeric_cols = [col for col in numeric_cols if col != target_col]\n",
        "\n",
        "    print(\"Feature Selection Analysis:\")\n",
        "    print(\"-\" * 50)\n",
        "\n",
        "    for col in temp_numeric_cols:\n",
        "        # Calculate missing percentage\n",
        "        missing_pct = df[col].isnull().sum() / len(df)\n",
        "\n",
        "        # Skip if too many missing values\n",
        "        if missing_pct > missing_threshold:\n",
        "            print(f\"❌ {col}: {missing_pct:.1%} missing (threshold: {missing_threshold:.1%})\")\n",
        "            continue\n",
        "\n",
        "        # Calculate correlation with target (if target exists)\n",
        "        correlation = 0\n",
        "        if target_col in df.columns and not df[target_col].isnull().all():\n",
        "            valid_mask = ~(df[col].isnull() | df[target_col].isnull())\n",
        "            if valid_mask.sum() > 10:  # Need at least 10 valid pairs\n",
        "                correlation, p_value = pearsonr(df[col][valid_mask], df[target_col][valid_mask])\n",
        "\n",
        "        # Calculate variance (normalized)\n",
        "        variance = df[col].var()\n",
        "        normalized_variance = variance / (df[col].mean() ** 2) if df[col].mean() != 0 else 0\n",
        "\n",
        "        # Feature selection criteria\n",
        "        is_relevant = (\n",
        "            missing_pct <= missing_threshold and\n",
        "            abs(correlation) >= correlation_threshold and\n",
        "            normalized_variance > 0.001  # Avoid constant features\n",
        "        )\n",
        "\n",
        "        feature_stats[col] = {\n",
        "            'missing_pct': missing_pct,\n",
        "            'correlation': correlation,\n",
        "            'variance': variance,\n",
        "            'normalized_variance': normalized_variance,\n",
        "            'selected': is_relevant\n",
        "        }\n",
        "\n",
        "        if is_relevant:\n",
        "            relevant_features.append(col)\n",
        "            print(f\"✅ {col}: missing={missing_pct:.1%}, corr={correlation:.3f}, var={normalized_variance:.4f}\")\n",
        "        else:\n",
        "            print(f\"⚠️  {col}: missing={missing_pct:.1%}, corr={correlation:.3f}, var={normalized_variance:.4f}\")\n",
        "\n",
        "    # Always include the target column in the relevant features if it's numeric and not missing\n",
        "    if target_col in df.columns and target_col in numeric_cols and df[target_col].isnull().sum() / len(df) <= missing_threshold:\n",
        "         if target_col not in relevant_features:\n",
        "             relevant_features.append(target_col)\n",
        "             print(f\"✅ {target_col}: (Target column, explicitly included)\")\n",
        "\n",
        "\n",
        "    return relevant_features, feature_stats\n",
        "\n",
        "# Apply enhanced feature selection\n",
        "relevant_features, feature_stats = select_relevant_features(df_hourly_weather, target_column)\n",
        "df_relevant = df_hourly_weather[relevant_features].copy()\n",
        "\n",
        "print(f\"\\n📊 Selected {len(relevant_features)} out of {len(df_hourly_weather.select_dtypes(include=[np.number]).columns)} numeric features\")\n",
        "print(f\"Selected features: {relevant_features}\")\n",
        "\n",
        "# Display missing values analysis\n",
        "print(\"\\n📋 Missing Values Analysis:\")\n",
        "missing_summary = df_relevant.isnull().sum()\n",
        "missing_summary = missing_summary[missing_summary > 0].sort_values(ascending=False)\n",
        "if len(missing_summary) > 0:\n",
        "    for col, count in missing_summary.items():\n",
        "        pct = count / len(df_relevant) * 100\n",
        "        print(f\"  {col}: {count} ({pct:.1f}%)\")\n",
        "else:\n",
        "    print(\"  ✅ No missing values in selected features!\")"
      ],
      "execution_count": null,
      "outputs": []
    },
    {
      "cell_type": "code",
      "metadata": {
        "id": "e90afc4d",
        "colab": {
          "base_uri": "https://localhost:8080/"
        },
        "outputId": "fc47e249-32cf-4d2d-804c-21bd2a694c5f"
      },
      "source": [
        "# Enhanced preprocessing with multiple scaling options and data validation\n",
        "from sklearn.preprocessing import MinMaxScaler, StandardScaler, RobustScaler\n",
        "from sklearn.impute import SimpleImputer, KNNImputer\n",
        "import warnings\n",
        "import os\n",
        "warnings.filterwarnings('ignore')\n",
        "\n",
        "def enhanced_preprocessing(df, scaling_method='robust', imputation_method='median',\n",
        "                         validation_split=0.2, random_state=42):\n",
        "    \"\"\"\n",
        "    Enhanced preprocessing with multiple options and validation\n",
        "    \"\"\"\n",
        "    print(f\"🔧 Starting preprocessing with {scaling_method} scaling and {imputation_method} imputation\")\n",
        "\n",
        "    # Handle missing values first\n",
        "    if df.isnull().sum().sum() > 0:\n",
        "        print(f\"⚠️  Found {df.isnull().sum().sum()} missing values, applying imputation...\")\n",
        "\n",
        "        if imputation_method == 'median':\n",
        "            imputer = SimpleImputer(strategy='median')\n",
        "        elif imputation_method == 'mean':\n",
        "            imputer = SimpleImputer(strategy='mean')\n",
        "        elif imputation_method == 'knn':\n",
        "            imputer = KNNImputer(n_neighbors=5)\n",
        "        else:\n",
        "            imputer = SimpleImputer(strategy='median')\n",
        "\n",
        "        # Apply imputation\n",
        "        df_imputed = pd.DataFrame(\n",
        "            imputer.fit_transform(df),\n",
        "            columns=df.columns,\n",
        "            index=df.index\n",
        "        )\n",
        "        print(f\"✅ Imputation completed. Remaining missing values: {df_imputed.isnull().sum().sum()}\")\n",
        "    else:\n",
        "        df_imputed = df.copy()\n",
        "        print(\"✅ No missing values found\")\n",
        "\n",
        "    # Split data for validation\n",
        "    if validation_split > 0:\n",
        "        from sklearn.model_selection import train_test_split\n",
        "        train_data, val_data = train_test_split(df_imputed, test_size=validation_split,\n",
        "                                               random_state=random_state)\n",
        "        print(f\"📊 Data split: {len(train_data)} train, {len(val_data)} validation samples\")\n",
        "    else:\n",
        "        train_data = df_imputed\n",
        "        val_data = None\n",
        "\n",
        "    # Apply scaling\n",
        "    if scaling_method == 'minmax':\n",
        "        scaler = MinMaxScaler()\n",
        "        scaler_name = \"MinMax (0-1)\"\n",
        "    elif scaling_method == 'standard':\n",
        "        scaler = StandardScaler()\n",
        "        scaler_name = \"Standard (z-score)\"\n",
        "    elif scaling_method == 'robust':\n",
        "        scaler = RobustScaler()\n",
        "        scaler_name = \"Robust (median-based)\"\n",
        "    else:\n",
        "        scaler = StandardScaler()\n",
        "        scaler_name = \"Standard (z-score)\"\n",
        "\n",
        "    print(f\"🎯 Applying {scaler_name} scaling...\")\n",
        "\n",
        "    # Fit scaler on training data only\n",
        "    scaled_train = scaler.fit_transform(train_data)\n",
        "    scaled_train_df = pd.DataFrame(scaled_train, columns=df_imputed.columns,\n",
        "                                  index=train_data.index)\n",
        "\n",
        "    # Transform validation data if exists\n",
        "    if val_data is not None:\n",
        "        scaled_val = scaler.transform(val_data)\n",
        "        scaled_val_df = pd.DataFrame(scaled_val, columns=df_imputed.columns,\n",
        "                                   index=val_data.index)\n",
        "    else:\n",
        "        scaled_val_df = None\n",
        "\n",
        "    # Display scaling statistics\n",
        "    print(\"📈 Scaling Statistics (Training Data):\")\n",
        "    print(f\"  Original range: [{df_imputed.min().min():.3f}, {df_imputed.max().max():.3f}]\")\n",
        "    print(f\"  Scaled range: [{scaled_train_df.min().min():.3f}, {scaled_train_df.max().max():.3f}]\")\n",
        "\n",
        "    # Sample of scaled data\n",
        "    print(\"\\n🔍 Sample of scaled data (first 5 rows, first 5 columns):\")\n",
        "    display_cols = scaled_train_df.columns[:5]\n",
        "    print(scaled_train_df[display_cols].head().round(4))\n",
        "\n",
        "    # Return results\n",
        "    results = {\n",
        "        'train_scaled': scaled_train_df,\n",
        "        'val_scaled': scaled_val_df,\n",
        "        'scaler': scaler,\n",
        "        'imputer': imputer if df.isnull().sum().sum() > 0 else None,\n",
        "        'original_train': train_data,\n",
        "        'original_val': val_data\n",
        "    }\n",
        "\n",
        "    return results\n",
        "\n",
        "# Apply enhanced preprocessing\n",
        "preprocessing_results = enhanced_preprocessing(\n",
        "    df_relevant,\n",
        "    scaling_method='robust',  # Less sensitive to outliers\n",
        "    imputation_method='median',  # More robust than mean\n",
        "    validation_split=0.2\n",
        ")\n",
        "\n",
        "# Access results\n",
        "scaled_data = preprocessing_results['train_scaled']\n",
        "scaler = preprocessing_results['scaler']\n",
        "print(f\"\\n✅ Preprocessing completed! Scaled training data shape: {scaled_data.shape}\")\n",
        "\n",
        "# Validation check\n",
        "print(\"\\n🔍 Data Quality Validation:\")\n",
        "print(f\"  No infinite values: {not np.isinf(scaled_data.values).any()}\")\n",
        "print(f\"  No NaN values: {not scaled_data.isnull().any().any()}\")\n",
        "print(f\"  All features have variance > 0: {(scaled_data.var() > 1e-10).all()}\")\n",
        "\n",
        "# Save preprocessing artifacts for later use\n",
        "import joblib\n",
        "# Create 'models' directory if it doesn't exist\n",
        "if not os.path.exists('models'):\n",
        "    os.makedirs('models')\n",
        "joblib.dump(scaler, 'models/scaler.pkl')\n",
        "print(\"💾 Scaler saved to 'models/scaler.pkl'\")\n",
        "\n",
        "print(\"\\n🎉 Enhanced preprocessing pipeline completed successfully!\")"
      ],
      "execution_count": null,
      "outputs": [
        {
          "output_type": "stream",
          "name": "stdout",
          "text": [
            "🔧 Starting preprocessing with robust scaling and median imputation\n",
            "✅ No missing values found\n",
            "📊 Data split: 105196 train, 26300 validation samples\n",
            "🎯 Applying Robust (median-based) scaling...\n",
            "📈 Scaling Statistics (Training Data):\n",
            "  Original range: [0.000, 789.190]\n",
            "  Scaled range: [-2.920, 3.729]\n",
            "\n",
            "🔍 Sample of scaled data (first 5 rows, first 5 columns):\n",
            "        temperature_min  temperature_max  relative_humidity  \\\n",
            "112982           0.2626           0.3275            -1.1062   \n",
            "60409            0.2691           0.2511            -1.0619   \n",
            "86594            0.6258           0.3013             0.6372   \n",
            "98583           -0.2101           0.0175             0.2655   \n",
            "120833           1.0328           1.1747            -0.6549   \n",
            "\n",
            "        solar_radiation_w_m2  sunshine_norm  \n",
            "112982                1.9620         1.2249  \n",
            "60409                -0.0725         0.0000  \n",
            "86594                -0.1406         0.0000  \n",
            "98583                 0.8702         1.0000  \n",
            "120833                0.2638         0.3663  \n",
            "\n",
            "✅ Preprocessing completed! Scaled training data shape: (105196, 7)\n",
            "\n",
            "🔍 Data Quality Validation:\n",
            "  No infinite values: True\n",
            "  No NaN values: True\n",
            "  All features have variance > 0: True\n",
            "💾 Scaler saved to 'models/scaler.pkl'\n",
            "\n",
            "🎉 Enhanced preprocessing pipeline completed successfully!\n"
          ]
        }
      ]
    },
    {
      "cell_type": "code",
      "metadata": {
        "id": "7e82760a",
        "colab": {
          "base_uri": "https://localhost:8080/",
          "height": 219
        },
        "outputId": "973fce45-a16d-4e56-d6e6-e012b5f1fe93"
      },
      "source": [
        "lookback = 30\n",
        "target_column = 'temperature'\n",
        "\n",
        "# Ensure the target column is in the relevant features for preparation\n",
        "if target_column not in df_relevant.columns:\n",
        "    raise ValueError(f\"Target column '{target_column}' not in relevant features.\")\n",
        "\n",
        "X_train, y_train, X_test, y_test, feature_scaler_lstm, target_scaler_lstm = prepare_lstm_data(\n",
        "    df_relevant,\n",
        "    feature_cols=[target_column], # Add feature_cols argument\n",
        "    target_col=target_column,\n",
        "    lookback=lookback,\n",
        "    test_size=0.2\n",
        ")\n",
        "\n",
        "print(f\"X_train shape: {X_train.shape}\")\n",
        "print(f\"y_train shape: {y_train.shape}\")\n",
        "print(f\"X_test shape: {X_test.shape}\")\n",
        "print(f\"y_test shape: {y_test.shape}\")"
      ],
      "execution_count": 129,
      "outputs": [
        {
          "output_type": "error",
          "ename": "ValueError",
          "evalue": "Target column 'temperature' not in relevant features.",
          "traceback": [
            "\u001b[0;31m---------------------------------------------------------------------------\u001b[0m",
            "\u001b[0;31mValueError\u001b[0m                                Traceback (most recent call last)",
            "\u001b[0;32m/tmp/ipython-input-3349364394.py\u001b[0m in \u001b[0;36m<cell line: 0>\u001b[0;34m()\u001b[0m\n\u001b[1;32m      4\u001b[0m \u001b[0;31m# Ensure the target column is in the relevant features for preparation\u001b[0m\u001b[0;34m\u001b[0m\u001b[0;34m\u001b[0m\u001b[0m\n\u001b[1;32m      5\u001b[0m \u001b[0;32mif\u001b[0m \u001b[0mtarget_column\u001b[0m \u001b[0;32mnot\u001b[0m \u001b[0;32min\u001b[0m \u001b[0mdf_relevant\u001b[0m\u001b[0;34m.\u001b[0m\u001b[0mcolumns\u001b[0m\u001b[0;34m:\u001b[0m\u001b[0;34m\u001b[0m\u001b[0;34m\u001b[0m\u001b[0m\n\u001b[0;32m----> 6\u001b[0;31m     \u001b[0;32mraise\u001b[0m \u001b[0mValueError\u001b[0m\u001b[0;34m(\u001b[0m\u001b[0;34mf\"Target column '{target_column}' not in relevant features.\"\u001b[0m\u001b[0;34m)\u001b[0m\u001b[0;34m\u001b[0m\u001b[0;34m\u001b[0m\u001b[0m\n\u001b[0m\u001b[1;32m      7\u001b[0m \u001b[0;34m\u001b[0m\u001b[0m\n\u001b[1;32m      8\u001b[0m X_train, y_train, X_test, y_test, feature_scaler_lstm, target_scaler_lstm = prepare_lstm_data(\n",
            "\u001b[0;31mValueError\u001b[0m: Target column 'temperature' not in relevant features."
          ]
        }
      ]
    },
    {
      "cell_type": "code",
      "metadata": {
        "id": "b3d44fd0"
      },
      "source": [
        "# Training configuration\n",
        "FAST_MODE = True  # Set to False for full training\n",
        "\n",
        "if FAST_MODE:\n",
        "    # Fast mode: smaller model, fewer epochs, larger batch size\n",
        "    units = 32\n",
        "    epochs = 5\n",
        "    batch_size = 128\n",
        "else:\n",
        "    # Full mode: larger model, more epochs, smaller batch size\n",
        "    units = 64\n",
        "    epochs = 50\n",
        "    batch_size = 32\n",
        "\n",
        "# Train the model\n",
        "lstm_model, history = train_lstm_model(\n",
        "    X_train,\n",
        "    y_train,\n",
        "    X_test,\n",
        "    y_test,\n",
        "    units=units,\n",
        "    epochs=epochs\n",
        ")\n",
        "\n",
        "# Print model summary\n",
        "lstm_model.summary()"
      ],
      "execution_count": null,
      "outputs": []
    },
    {
      "cell_type": "markdown",
      "metadata": {
        "id": "fe91fb1f"
      },
      "source": [
        "**Feature Analysis**"
      ]
    },
    {
      "cell_type": "code",
      "metadata": {
        "id": "0e47591b"
      },
      "source": [
        "# Configuration for regression modeling\n",
        "REGRESSION_CONFIG = {\n",
        "    \"target\": \"temperature_mean\",\n",
        "    \"features\": [\n",
        "        \"temperature_min\",\n",
        "        \"temperature_max\",\n",
        "        \"rainfall_daily\",\n",
        "        \"relative_humidity_mean\",\n",
        "        \"wind_speed_mean\",\n",
        "        \"solar_radiation\"\n",
        "    ],\n",
        "    \"validation_split\": 0.2,\n",
        "    \"save_model\": True,\n",
        "    \"model_path\": \"temperature_regression_model.pkl\"\n",
        "}\n",
        "\n",
        "def prepare_regression_data(df: pd.DataFrame, config: dict) -> tuple:\n",
        "    \"\"\"Validate and prepare data for regression modeling\"\"\"\n",
        "    required_columns = config[\"features\"] + [config[\"target\"]]\n",
        "\n",
        "    # Check for missing columns\n",
        "    missing_cols = [col for col in required_columns if col not in df.columns]\n",
        "    if missing_cols:\n",
        "        raise ValueError(f\"Missing columns in dataset: {missing_cols}\")\n",
        "\n",
        "    # Handle missing values\n",
        "    if df[required_columns].isnull().any().any():\n",
        "        print(\"Warning: Missing values detected. Applying imputation...\")\n",
        "        df = df[required_columns].copy()\n",
        "\n",
        "        # Different imputation strategies for different features\n",
        "        imputation_strategies = {\n",
        "            \"temperature\": \"linear\",\n",
        "            \"rainfall\": \"zero\",\n",
        "            \"humidity\": \"mean\",\n",
        "            \"wind\": \"mean\",\n",
        "            \"solar\": \"mean\"\n",
        "        }\n",
        "\n",
        "        for col in required_columns:\n",
        "            if \"temp\" in col.lower():\n",
        "                df[col] = df[col].interpolate(method=imputation_strategies[\"temperature\"])\n",
        "            elif \"rain\" in col.lower():\n",
        "                df[col] = df[col].fillna(0)\n",
        "            else:\n",
        "                df[col] = df[col].fillna(df[col].mean())\n",
        "\n",
        "    return df[config[\"features\"]], df[config[\"target\"]]\n",
        "\n",
        "def train_and_evaluate_model(X: pd.DataFrame, y: pd.Series, config: dict) -> tuple:\n",
        "    \"\"\"Full model training and evaluation workflow\"\"\"\n",
        "    # Time-based split for time series data\n",
        "    split_idx = int(len(X) * (1 - config[\"validation_split\"]))\n",
        "    X_train, X_test = X.iloc[:split_idx], X.iloc[split_idx:]\n",
        "    y_train, y_test = y.iloc[:split_idx], y.iloc[split_idx:]\n",
        "\n",
        "    # Feature scaling\n",
        "    scaler = StandardScaler()\n",
        "    X_train_scaled = scaler.fit_transform(X_train)\n",
        "    X_test_scaled = scaler.transform(X_test)\n",
        "\n",
        "    # Initialize and train model\n",
        "    model = RandomForestRegressor(\n",
        "        n_estimators=100,\n",
        "        random_state=42,\n",
        "        min_samples_leaf=5\n",
        "    )\n",
        "    model.fit(X_train_scaled, y_train)\n",
        "\n",
        "    # Evaluate model\n",
        "    predictions = model.predict(X_test_scaled)\n",
        "    metrics = {\n",
        "        \"rmse\": np.sqrt(mean_squared_error(y_test, predictions)),\n",
        "        \"mae\": mean_absolute_error(y_test, predictions),\n",
        "        \"r2\": r2_score(y_test, predictions),\n",
        "        \"mape\": np.mean(np.abs((y_test - predictions) / y_test)) * 100\n",
        "    }\n",
        "\n",
        "    # Save model artifacts if requested\n",
        "    if config.get(\"save_model\", False):\n",
        "        joblib.dump({\n",
        "            \"model\": model,\n",
        "            \"scaler\": scaler,\n",
        "            \"features\": config[\"features\"],\n",
        "            \"metrics\": metrics\n",
        "        }, config[\"model_path\"])\n",
        "        print(f\"Model saved to {config['model_path']}\")\n",
        "\n",
        "    return model, metrics, scaler\n",
        "\n",
        "# Main execution flow\n",
        "try:\n",
        "    # Prepare data\n",
        "    X_reg, y_reg = prepare_regression_data(df_daily_weather.copy(), REGRESSION_CONFIG)\n",
        "\n",
        "    # Train and evaluate model\n",
        "    regression_model, regression_metrics, regression_scaler = train_and_evaluate_model(\n",
        "        X_reg, y_reg, REGRESSION_CONFIG\n",
        "    )\n",
        "\n",
        "    # Display results\n",
        "    print(\"\\nTemperature Forecasting Regression Model Metrics:\")\n",
        "    print(f\"- RMSE: {regression_metrics['rmse']:.2f}\")\n",
        "    print(f\"- MAE: {regression_metrics['mae']:.2f}\")\n",
        "    print(f\"- R²: {regression_metrics['r2']:.2f}\")\n",
        "    print(f\"- MAPE: {regression_metrics['mape']:.2f}%\")\n",
        "\n",
        "    # Feature importance analysis\n",
        "    feature_importances = pd.Series(\n",
        "        regression_model.feature_importances_,\n",
        "        index=REGRESSION_CONFIG[\"features\"]\n",
        "    ).sort_values(ascending=False)\n",
        "\n",
        "    print(\"\\nFeature Importances:\")\n",
        "    print(feature_importances.to_string())\n",
        "\n",
        "except ValueError as ve:\n",
        "    print(f\"Data Preparation Error: {ve}\")\n",
        "except Exception as e:\n",
        "    print(f\"Model Training Failed: {str(e)}\")\n",
        "    # Consider adding error logging to file here"
      ],
      "execution_count": null,
      "outputs": []
    },
    {
      "cell_type": "code",
      "source": [],
      "metadata": {
        "id": "XGN9r_nYRY1k"
      },
      "execution_count": null,
      "outputs": []
    },
    {
      "cell_type": "markdown",
      "source": [
        "Baseline Model"
      ],
      "metadata": {
        "id": "gK8K4_9NRWQi"
      }
    },
    {
      "cell_type": "code",
      "metadata": {
        "id": "47e6a405"
      },
      "source": [
        "class BaselineModels:\n",
        "    \"\"\"\n",
        "    Implements baseline forecasting models with walk-forward validation.\n",
        "    Models: Persistence (naive) and Climatology (historical averages).\n",
        "\n",
        "    1. Single Responsibility Principle - each method does one thing\n",
        "    2. Leakage prevention in climatology forecasts\n",
        "    3. Type hinting and input validation\n",
        "    4. Efficient computation with caching\n",
        "    5. Comprehensive error handling\n",
        "    6. Clear separation of validation logic\n",
        "    \"\"\"\n",
        "\n",
        "    def __init__(self, data: pd.Series):\n",
        "        self.data = self._validate_and_prepare_data(data)\n",
        "        self.climatology_cache = {}  # For storing precomputed climatology values\n",
        "\n",
        "    def _validate_and_prepare_data(self, data: pd.Series) -> pd.Series:\n",
        "        \"\"\"Data validation and preprocessing\"\"\"\n",
        "        if not isinstance(data, pd.Series):\n",
        "            raise TypeError(\"Input must be pandas Series\")\n",
        "\n",
        "        if not isinstance(data.index, pd.DatetimeIndex):\n",
        "            try:\n",
        "                data.index = pd.to_datetime(data.index)\n",
        "            except Exception as e:\n",
        "                raise ValueError(\"Index conversion failed\") from e\n",
        "\n",
        "        return data.sort_index().dropna()\n",
        "\n",
        "    def persistence_forecast(self, last_observation: float) -> float:\n",
        "        \"\"\"Naïve forecast: next value = last observed value\"\"\"\n",
        "        return last_observation\n",
        "\n",
        "    def _compute_climatology(self, date: datetime, period: str, data: pd.Series) -> float:\n",
        "        \"\"\"Compute climatology while preventing data leakage\"\"\"\n",
        "        key = (date, period)\n",
        "        if key in self.climatology_cache:\n",
        "            return self.climatology_cache[key]\n",
        "\n",
        "        if period == 'D':\n",
        "            mask = (data.index.day == date.day) & (data.index.month == date.month)\n",
        "        elif period == 'W':\n",
        "            mask = (data.index.isocalendar().week == date.isocalendar().week)\n",
        "        elif period == 'M':\n",
        "            mask = (data.index.month == date.month)\n",
        "        else:\n",
        "            raise ValueError(\"Invalid period. Use 'D', 'W', or 'M'\")\n",
        "\n",
        "        historical = data[mask]\n",
        "        value = historical.mean() if not historical.empty else data.mean()\n",
        "\n",
        "        self.climatology_cache[key] = value\n",
        "        return value\n",
        "\n",
        "    def climatology_forecast(self, date: datetime, period: str = 'D') -> float:\n",
        "        \"\"\"Historical average forecast for specific time period\"\"\"\n",
        "        return self._compute_climatology(date, period, self.data)\n",
        "\n",
        "    def _train_test_split(self, validation_split: float) -> tuple:\n",
        "        \"\"\"Create time-based train-test split\"\"\"\n",
        "        if not 0 < validation_split < 1:\n",
        "            raise ValueError(\"validation_split must be between 0 and 1\")\n",
        "\n",
        "        split_idx = int(len(self.data) * (1 - validation_split))\n",
        "        return self.data.iloc[:split_idx], self.data.iloc[split_idx:]\n",
        "\n",
        "    def _evaluate_forecasts(self, actuals: list, preds: list) -> dict:\n",
        "        \"\"\"Calculate evaluation metrics\"\"\"\n",
        "        if not actuals or not preds:\n",
        "            return {\"rmse\": np.nan, \"mae\": np.nan, \"mape\": np.nan}\n",
        "\n",
        "        rmse = np.sqrt(mean_squared_error(actuals, preds))\n",
        "        mae = np.mean(np.abs(np.array(actuals) - np.array(preds)))\n",
        "\n",
        "        with np.errstate(divide='ignore', invalid='ignore'):\n",
        "            mape = np.mean(np.abs((np.array(actuals) - np.array(preds)) / np.array(actuals))) * 100\n",
        "\n",
        "        return {\"rmse\": rmse, \"mae\": mae, \"mape\": mape}\n",
        "\n",
        "    def walk_forward_validation(self,\n",
        "                               forecast_steps: int = 1,\n",
        "                               validation_split: float = 0.2,\n",
        "                               model_type: str = 'persistence',\n",
        "                               aggregation_period: str = 'D') -> dict:\n",
        "        \"\"\"\n",
        "        Walk-forward validation for baseline models\n",
        "\n",
        "        Args:\n",
        "            forecast_steps: Number of steps to forecast ahead\n",
        "            validation_split: Proportion of data for validation\n",
        "            model_type: 'persistence' or 'climatology'\n",
        "            aggregation_period: 'D', 'W', or 'M'\n",
        "\n",
        "        Returns:\n",
        "            Dictionary with results and metrics\n",
        "        \"\"\"\n",
        "        # Validation checks\n",
        "        if model_type not in {'persistence', 'climatology'}:\n",
        "            raise ValueError(\"Invalid model_type\")\n",
        "\n",
        "        train, test = self._train_test_split(validation_split)\n",
        "\n",
        "        if len(test) < forecast_steps:\n",
        "            raise ValueError(f\"Test set too small ({len(test)}). Needs at least {forecast_steps} samples\")\n",
        "\n",
        "        # Prepare forecast\n",
        "        actuals, predictions = [], []\n",
        "\n",
        "        for i in range(len(test) - forecast_steps + 1):\n",
        "            current_train = pd.concat([train, test.iloc[:i]])\n",
        "            forecast_point = train.index[-1] + pd.Timedelta(days=i+forecast_steps)\n",
        "            actual = test.iloc[i + forecast_steps - 1]\n",
        "\n",
        "            if model_type == 'persistence':\n",
        "                pred = self.persistence_forecast(current_train.iloc[-1])\n",
        "            else:  # Climatology - leakage-proof version\n",
        "                temp_model = BaselineModels(current_train)\n",
        "                pred = temp_model.climatology_forecast(forecast_point, aggregation_period)\n",
        "\n",
        "            actuals.append(actual)\n",
        "            predictions.append(pred)\n",
        "\n",
        "        return {\n",
        "            \"actual\": actuals,\n",
        "            \"predictions\": predictions,\n",
        "            \"metrics\": self._evaluate_forecasts(actuals, predictions),\n",
        "            \"model\": model_type,\n",
        "            \"horizon\": forecast_steps\n",
        "        }"
      ],
      "execution_count": null,
      "outputs": []
    },
    {
      "cell_type": "markdown",
      "source": [
        "Impact Analysis and Visualization"
      ],
      "metadata": {
        "id": "EMINyjCuea6H"
      }
    },
    {
      "cell_type": "code",
      "source": [
        "class ImpactAnalyzer:\n",
        "    \"\"\"Enhanced environmental risk analyzer with temporal relationships visualization\"\"\"\n",
        "\n",
        "    def __init__(self, data):\n",
        "        self.data = data.copy()\n",
        "        self._validate_data()\n",
        "\n",
        "        # Expert-calibrated thresholds\n",
        "        self.thresholds = {\n",
        "            'flood': 150,  # mm (72h accumulation)\n",
        "            'malaria_humidity': 80,  # %\n",
        "            'malaria_rainfall': 5,  # mm (3-day avg)\n",
        "            'drought': 0.3  # soil moisture index\n",
        "        }\n",
        "\n",
        "        # Calculate all risks upon initialization\n",
        "        self.calculate_all_risks()\n",
        "\n",
        "    def _validate_data(self):\n",
        "        \"\"\"Ensure required columns exist\"\"\"\n",
        "        required = ['rainfall', 'relative_humidity', 'solar_radiation',\n",
        "                    'temperature', 'temp_max', 'temp_min', 'soil_moisture']\n",
        "        missing = [col for col in required if col not in self.data.columns]\n",
        "        if missing:\n",
        "            raise ValueError(f\"Missing required columns: {missing}\")\n",
        "\n",
        "    # Existing risk calculation methods (flood, malaria, hydro, crop) would be here...\n",
        "    # [Include all the calculate_*_risk methods from previous implementation]\n",
        "\n",
        "    def analyze_malaria_rainfall_relationship(self):\n",
        "        \"\"\"Deep analysis of rainfall-malaria relationship with temporal lags\"\"\"\n",
        "        # Create monthly features\n",
        "        self.data['month'] = self.data.index.month\n",
        "        self.data['year'] = self.data.index.year\n",
        "        self.data['month_name'] = self.data.index.month_name()\n",
        "\n",
        "        # Calculate rainfall features\n",
        "        self.data['prev_month_rain'] = self.data['rainfall'].shift(30).rolling(30).mean()\n",
        "        self.data['next_month_rain'] = self.data['rainfall'].shift(-30).rolling(30).mean()\n",
        "\n",
        "        # Malaria risk features\n",
        "        self.data['malaria_risk_lag'] = self.data['malaria_risk'].shift(7)  # 1-week lag\n",
        "\n",
        "        return self.data\n",
        "\n",
        "    def plot_rainfall_malaria_relationship(self):\n",
        "        \"\"\"Comprehensive visualizations of rainfall-malaria dynamics\"\"\"\n",
        "        # Prepare data\n",
        "        df = self.analyze_malaria_rainfall_relationship().copy()\n",
        "        monthly = df.resample('M').agg({\n",
        "            'rainfall': 'sum',\n",
        "            'malaria_risk': 'mean',\n",
        "            '3d_avg_humidity': 'mean'\n",
        "        })\n",
        "        monthly['month'] = monthly.index.month\n",
        "\n",
        "        # Create figure layout\n",
        "        plt.figure(figsize=(16, 20))\n",
        "        gs = plt.GridSpec(4, 2)\n",
        "\n",
        "        # 1. Malaria Risk by Rainfall Intensity (Boxplot)\n",
        "        plt.subplot(gs[0, 0])\n",
        "        sns.boxplot(\n",
        "            x='malaria_risk',\n",
        "            y='rainfall',\n",
        "            data=df,\n",
        "            showfliers=False,\n",
        "            palette='viridis'\n",
        "        )\n",
        "        plt.title('Rainfall Distribution on Malaria Risk Days')\n",
        "        plt.xlabel('Malaria Risk Present')\n",
        "        plt.ylabel('Daily Rainfall (mm)')\n",
        "        plt.axhline(self.thresholds['malaria_rainfall'], color='r', linestyle='--',\n",
        "                    label='Malaria Rainfall Threshold')\n",
        "        plt.legend()\n",
        "\n",
        "        # 2. Monthly Malaria Risk Patterns (Heatmap)\n",
        "        plt.subplot(gs[0, 1])\n",
        "        monthly_pivot = df.pivot_table(\n",
        "            index='year',\n",
        "            columns='month_name',\n",
        "            values='malaria_risk',\n",
        "            aggfunc='mean'\n",
        "        )\n",
        "        # Order by calendar months\n",
        "        month_order = list(calendar.month_name)[1:]\n",
        "        monthly_pivot = monthly_pivot[month_order]\n",
        "\n",
        "        sns.heatmap(\n",
        "            monthly_pivot,\n",
        "            cmap='YlGnBu',\n",
        "            annot=True,\n",
        "            fmt=\".2f\",\n",
        "            linewidths=0.5,\n",
        "            cbar_kws={'label': 'Malaria Risk Probability'}\n",
        "        )\n",
        "        plt.title('Malaria Risk Probability by Month and Year')\n",
        "        plt.xlabel('Month')\n",
        "        plt.ylabel('Year')\n",
        "\n",
        "        # 3. Rainfall vs. Malaria Risk Lag (Scatterplot)\n",
        "        plt.subplot(gs[1, 0])\n",
        "        sns.scatterplot(\n",
        "            x='rainfall',\n",
        "            y='malaria_risk_lag',\n",
        "            data=df,\n",
        "            hue='3d_avg_humidity',\n",
        "            palette='coolwarm',\n",
        "            alpha=0.6,\n",
        "            size='temperature',\n",
        "            sizes=(20, 200)\n",
        "        ) # Added closing parenthesis here\n",
        "        plt.title('Rainfall vs. Subsequent Week Malaria Risk')\n",
        "        plt.xlabel('Current Rainfall (mm)')\n",
        "        plt.ylabel('Malaria Risk (Next Week)')\n",
        "        plt.axvline(self.thresholds['malaria_rainfall'], color='r', linestyle='--')\n",
        "        plt.colorbar(label='3-Day Avg Humidity (%)')\n",
        "\n",
        "        # 4. Monthly Comparison (Barplot)\n",
        "        plt.subplot(gs[1, 1])\n",
        "        monthly_risk = df.groupby('month_name')['malaria_risk'].mean().reset_index()\n",
        "        monthly_rain = df.groupby('month_name')['rainfall'].mean().reset_index()\n",
        "\n",
        "        # Merge and order by calendar months\n",
        "        monthly_comparison = pd.merge(monthly_risk, monthly_rain, on='month_name')\n",
        "        monthly_comparison['month_num'] = [list(calendar.month_name).index(m) for m in monthly_comparison['month_name']]\n",
        "        monthly_comparison = monthly_comparison.sort_values('month_num').drop('month_num', axis=1)\n",
        "\n",
        "        ax = plt.gca()\n",
        "        sns.barplot(x='month_name', y='rainfall', data=monthly_comparison,\n",
        "                    color='skyblue', label='Rainfall', alpha=0.7)\n",
        "        ax2 = ax.twinx()\n",
        "        sns.lineplot(x='month_name', y='malaria_risk', data=monthly_comparison,\n",
        "                     color='darkred', marker='o', ax=ax2, label='Malaria Risk')\n",
        "\n",
        "        ax.set_title('Monthly Rainfall vs. Malaria Risk')\n",
        "        ax.set_xlabel('Month')\n",
        "        ax.set_ylabel('Average Rainfall (mm)')\n",
        "        ax2.set_ylabel('Malaria Risk Probability')\n",
        "        ax.legend(loc='upper left')\n",
        "        ax2.legend(loc='upper right')\n",
        "\n",
        "        # 5. Lagged Rainfall Effects (Lineplot)\n",
        "        plt.subplot(gs[2, :])\n",
        "        correlations = []\n",
        "        lags = range(-60, 61, 5)  # 2 months before to 2 months after\n",
        "\n",
        "        for lag in lags:\n",
        "            if lag < 0:\n",
        "                shifted_rain = df['rainfall'].shift(-lag)\n",
        "            else:\n",
        "                shifted_rain = df['rainfall'].shift(lag)\n",
        "            corr = pearsonr(shifted_rain.dropna(), df['malaria_risk'].iloc[-len(shifted_rain.dropna()):])[0]\n",
        "            correlations.append(corr)\n",
        "\n",
        "        plt.plot(lags, correlations, 'b-o', linewidth=2)\n",
        "        plt.axvline(0, color='r', linestyle='--', label='Current Day')\n",
        "        plt.axvline(7, color='g', linestyle='--', label='1 Week Lag')\n",
        "        plt.axvline(30, color='purple', linestyle='--', label='1 Month Lag')\n",
        "        plt.title('Rainfall-Malaria Risk Correlation at Different Time Lags')\n",
        "        plt.xlabel('Days Before/After Rainfall Event')\n",
        "        plt.ylabel('Correlation Coefficient')\n",
        "        plt.grid(True, alpha=0.3)\n",
        "        plt.legend()\n",
        "\n",
        "        # 6. Conditional Risk Probability\n",
        "        plt.subplot(gs[3, :])\n",
        "        rain_bins = np.arange(0, 50, 5)\n",
        "        risk_prob = []\n",
        "\n",
        "        for i in range(len(rain_bins) - 1):\n",
        "            low, high = rain_bins[i], rain_bins[i+1]\n",
        "            subset = df[(df['rainfall'] >= low) & (df['rainfall'] < high)]\n",
        "            prob = subset['malaria_risk'].mean() if not subset.empty else 0\n",
        "            risk_prob.append(prob)\n",
        "\n",
        "        plt.bar(rain_bins[:-1], risk_prob, width=4, align='edge',\n",
        "                color='teal', alpha=0.7)\n",
        "        plt.axhline(df['malaria_risk'].mean(), color='r', linestyle='--',\n",
        "                    label='Overall Malaria Risk Probability')\n",
        "        plt.title('Malaria Risk Probability by Rainfall Amount')\n",
        "        plt.xlabel('Daily Rainfall (mm)')\n",
        "        plt.ylabel('Probability of Malaria Risk')\n",
        "        plt.xticks(rain_bins)\n",
        "        plt.legend()\n",
        "\n",
        "        plt.tight_layout()\n",
        "        plt.savefig('rainfall_malaria_relationship.png', dpi=300)\n",
        "        plt.show()\n",
        "\n",
        "        # Return key insights\n",
        "        return self._generate_malaria_insights(df)\n",
        "\n",
        "    def _generate_malaria_insights(self, df):\n",
        "        \"\"\"Generate data-driven insights about malaria risk patterns\"\"\"\n",
        "        insights = []\n",
        "\n",
        "        # Insight 1: Optimal rainfall range\n",
        "        rain_ranges = [(0, 5), (5, 10), (10, 20), (20, 30), (30, 50)]\n",
        "        max_risk = 0\n",
        "        optimal_range = None\n",
        "\n",
        "        for low, high in rain_ranges:\n",
        "            subset = df[(df['rainfall'] >= low) & (df['rainfall'] < high)]\n",
        "            risk = subset['malaria_risk'].mean()\n",
        "            if risk > max_risk:\n",
        "                max_risk = risk\n",
        "                optimal_range = (low, high)\n",
        "\n",
        "        insights.append(\n",
        "            f\"Malaria risk peaks at {max_risk*100:.1f}% with rainfall between \"\n",
        "            f\"{optimal_range[0]}-{optimal_range[1]}mm - ideal for mosquito breeding\"\n",
        "        )\n",
        "\n",
        "        # Insight 2: Lag effect\n",
        "        peak_lag = df.groupby('malaria_risk_lag')['rainfall'].mean().idxmax()\n",
        "        insights.append(\n",
        "            f\"Highest malaria risk occurs 1 week after heavy rainfall events \"\n",
        "            f\"(average rainfall: {df[df['malaria_risk_lag'] == peak_lag]['rainfall'].mean():.1f}mm)\"\n",
        "        )\n",
        "\n",
        "        # Insight 3: Seasonal patterns\n",
        "        top_months = df.groupby('month_name')['malaria_risk'].mean().nlargest(3)\n",
        "        insights.append(\n",
        "            f\"Highest malaria risk months: {', '.join(top_months.index)} \"\n",
        "            f\"({top_months.max()*100:.1f}% risk probability)\"\n",
        "        )\n",
        "\n",
        "        # Insight 4: Humidity interaction\n",
        "        humidity_threshold = self.thresholds['malaria_humidity']\n",
        "        high_humidity_risk = df[df['3d_avg_humidity'] > humidity_threshold]['malaria_risk'].mean()\n",
        "        low_humidity_risk = df[df['3d_avg_humidity'] <= humidity_threshold]['malaria_risk'].mean()\n",
        "        insights.append(\n",
        "            f\"Malaria risk is {high_humidity_risk/low_humidity_risk:.1f}x higher \"\n",
        "            f\"when humidity >{humidity_threshold}% compared to lower humidity conditions\"\n",
        "        )\n",
        "\n",
        "        # Insight 5: Temperature influence\n",
        "        temp_bins = pd.cut(df['temperature'], bins=5)\n",
        "        temp_risk = df.groupby(temp_bins)['malaria_risk'].mean()\n",
        "        optimal_temp = temp_risk.idxmax()\n",
        "        insights.append(\n",
        "            f\"Optimal temperature range for malaria risk: {optimal_temp} \"\n",
        "            f\"(risk probability: {temp_risk.max()*100:.1f}%)\"\n",
        "        )\n",
        "\n",
        "        return insights"
      ],
      "metadata": {
        "id": "zoCO5TWyeiA8"
      },
      "execution_count": null,
      "outputs": []
    },
    {
      "cell_type": "code",
      "metadata": {
        "id": "bde2bdd0"
      },
      "source": [
        "try:\n",
        "    df_daily_weather.head()\n",
        "except NameError:\n",
        "    print(\"Creating a dummy DataFrame 'df_daily_weather' for demonstration.\")\n",
        "    date_rng = pd.date_range(start='2020-01-01', periods=365*2, freq='D')\n",
        "    dummy_data = {\n",
        "        'rainfall': np.random.rand(len(date_rng)) * 20,\n",
        "        'relative_humidity': np.random.rand(len(date_rng)) * 30 + 60,\n",
        "        'solar_radiation': np.random.rand(len(date_rng)) * 500,\n",
        "        'temperature': np.random.rand(len(date_rng)) * 10 + 20,\n",
        "        'temp_max': np.random.rand(len(date_rng)) * 5 + 25,\n",
        "        'temp_min': np.random.rand(len(date_rng)) * 5 + 15,\n",
        "        'soil_moisture': np.random.rand(len(date_rng)) * 0.5 + 0.2,\n",
        "        'malaria_risk': np.random.randint(0, 2, len(date_rng)) # Dummy binary risk\n",
        "    }\n",
        "    df_daily_weather = pd.DataFrame(dummy_data, index=date_rng)\n",
        "    df_daily_weather.index.name = 'date'\n",
        "\n",
        "\n",
        "# Instantiate the ImpactAnalyzer\n",
        "try:\n",
        "    analyzer = ImpactAnalyzer(df_daily_weather)\n",
        "\n",
        "    # Plot the relationship and get insights\n",
        "    malaria_insights = analyzer.plot_rainfall_malaria_relationship()\n",
        "\n",
        "    # Display the insights\n",
        "    print(\"\\nMalaria Risk Insights based on Rainfall Analysis:\")\n",
        "    for insight in malaria_insights:\n",
        "        print(f\"- {insight}\")\n",
        "\n",
        "except ValueError as ve:\n",
        "    print(f\"Error: {ve}\")\n",
        "except Exception as e:\n",
        "    print(f\"An unexpected error occurred: {e}\")"
      ],
      "execution_count": null,
      "outputs": []
    },
    {
      "cell_type": "markdown",
      "metadata": {
        "id": "9fa1195b"
      },
      "source": [
        "**Analyze and Visualize Environmental Impact**"
      ]
    },
    {
      "cell_type": "markdown",
      "metadata": {
        "id": "9eaf4915"
      },
      "source": [
        "Section 1 Import Libraries"
      ]
    },
    {
      "cell_type": "markdown",
      "metadata": {
        "id": "b6eff15a"
      },
      "source": [
        "1. Fetch Current Weather Data"
      ]
    },
    {
      "cell_type": "markdown",
      "metadata": {
        "id": "01c108f4"
      },
      "source": [
        "2. Read Historical Data"
      ]
    },
    {
      "cell_type": "markdown",
      "metadata": {
        "id": "73af6ad1"
      },
      "source": [
        "3. Prepare Data for Training"
      ]
    },
    {
      "cell_type": "markdown",
      "metadata": {
        "id": "0299b1ad"
      },
      "source": [
        "4. Train Rain Prediction Model"
      ]
    },
    {
      "cell_type": "markdown",
      "metadata": {
        "id": "0028b1e9"
      },
      "source": [
        "5. Prepare Regression Data"
      ]
    },
    {
      "cell_type": "markdown",
      "metadata": {
        "id": "4fe55a30"
      },
      "source": [
        "Train Regression Model"
      ]
    },
    {
      "cell_type": "markdown",
      "metadata": {
        "id": "3aa298d2"
      },
      "source": [
        "6. Prepare LSMT Data"
      ]
    },
    {
      "cell_type": "markdown",
      "metadata": {
        "id": "ed303ab6"
      },
      "source": [
        "Train LSTM Data"
      ]
    },
    {
      "cell_type": "markdown",
      "metadata": {
        "id": "e136a340"
      },
      "source": [
        "Weather Analysis"
      ]
    },
    {
      "cell_type": "markdown",
      "metadata": {
        "id": "e79497d8"
      },
      "source": [
        "**Feature Analysis**"
      ]
    },
    {
      "cell_type": "markdown",
      "metadata": {
        "id": "cdedffc3"
      },
      "source": [
        "Baseline Model"
      ]
    },
    {
      "cell_type": "markdown",
      "metadata": {
        "id": "5ee1bd0a"
      },
      "source": [
        "Impact Analysis and Visualization"
      ]
    },
    {
      "cell_type": "markdown",
      "metadata": {
        "id": "d5fbfb53"
      },
      "source": [
        "**Analyze and Visualize Environmental Impact**"
      ]
    },
    {
      "cell_type": "markdown",
      "metadata": {
        "id": "290d8c54"
      },
      "source": [
        "Section 1 Import Libraries"
      ]
    },
    {
      "cell_type": "markdown",
      "metadata": {
        "id": "09f598ef"
      },
      "source": [
        "1. Fetch Current Weather Data"
      ]
    },
    {
      "cell_type": "markdown",
      "metadata": {
        "id": "6c4944ba"
      },
      "source": [
        "2. Read Historical Data"
      ]
    },
    {
      "cell_type": "markdown",
      "metadata": {
        "id": "632ccf94"
      },
      "source": [
        "3. Prepare Data for Training"
      ]
    },
    {
      "cell_type": "markdown",
      "metadata": {
        "id": "8656fadb"
      },
      "source": [
        "4. Train Rain Prediction Model"
      ]
    },
    {
      "cell_type": "markdown",
      "metadata": {
        "id": "83ab178a"
      },
      "source": [
        "5. Prepare Regression Data"
      ]
    },
    {
      "cell_type": "markdown",
      "metadata": {
        "id": "a7f3f4a6"
      },
      "source": [
        "Train Regression Model"
      ]
    },
    {
      "cell_type": "markdown",
      "metadata": {
        "id": "a5ae8266"
      },
      "source": [
        "6. Prepare LSMT Data"
      ]
    },
    {
      "cell_type": "markdown",
      "metadata": {
        "id": "a18e5f15"
      },
      "source": [
        "Train LSTM Data"
      ]
    },
    {
      "cell_type": "markdown",
      "metadata": {
        "id": "1e3cb447"
      },
      "source": [
        "Weather Analysis"
      ]
    },
    {
      "cell_type": "markdown",
      "metadata": {
        "id": "04193765"
      },
      "source": [
        "**Feature Analysis**"
      ]
    },
    {
      "cell_type": "markdown",
      "metadata": {
        "id": "2dca8fa0"
      },
      "source": [
        "Baseline Model"
      ]
    },
    {
      "cell_type": "markdown",
      "metadata": {
        "id": "7f01b415"
      },
      "source": [
        "Impact Analysis and Visualization"
      ]
    },
    {
      "cell_type": "markdown",
      "metadata": {
        "id": "ba5af88b"
      },
      "source": [
        "**Analyze and Visualize Environmental Impact**"
      ]
    },
    {
      "cell_type": "markdown",
      "metadata": {
        "id": "a7fb192e"
      },
      "source": [
        "Section 1 Import Libraries"
      ]
    },
    {
      "cell_type": "markdown",
      "metadata": {
        "id": "61617ded"
      },
      "source": [
        "1. Fetch Current Weather Data"
      ]
    },
    {
      "cell_type": "markdown",
      "metadata": {
        "id": "c7e34fd6"
      },
      "source": [
        "2. Read Historical Data"
      ]
    },
    {
      "cell_type": "markdown",
      "metadata": {
        "id": "557ce209"
      },
      "source": [
        "3. Prepare Data for Training"
      ]
    },
    {
      "cell_type": "markdown",
      "metadata": {
        "id": "39e59a5b"
      },
      "source": [
        "4. Train Rain Prediction Model"
      ]
    },
    {
      "cell_type": "markdown",
      "metadata": {
        "id": "43ec9ec2"
      },
      "source": [
        "5. Prepare Regression Data"
      ]
    },
    {
      "cell_type": "markdown",
      "metadata": {
        "id": "88984624"
      },
      "source": [
        "Train Regression Model"
      ]
    },
    {
      "cell_type": "markdown",
      "metadata": {
        "id": "da73175b"
      },
      "source": [
        "6. Prepare LSMT Data"
      ]
    },
    {
      "cell_type": "markdown",
      "metadata": {
        "id": "f39d936f"
      },
      "source": [
        "Train LSTM Data"
      ]
    },
    {
      "cell_type": "markdown",
      "metadata": {
        "id": "5798d8ee"
      },
      "source": [
        "Weather Analysis"
      ]
    },
    {
      "cell_type": "markdown",
      "metadata": {
        "id": "84f66a2d"
      },
      "source": [
        "**Feature Analysis**"
      ]
    },
    {
      "cell_type": "markdown",
      "metadata": {
        "id": "1aabe286"
      },
      "source": [
        "Baseline Model"
      ]
    },
    {
      "cell_type": "markdown",
      "metadata": {
        "id": "c4bfb7cd"
      },
      "source": [
        "Impact Analysis and Visualization"
      ]
    },
    {
      "cell_type": "markdown",
      "metadata": {
        "id": "3a670367"
      },
      "source": [
        "**Analyze and Visualize Environmental Impact**"
      ]
    },
    {
      "cell_type": "code",
      "metadata": {
        "colab": {
          "base_uri": "https://localhost:8080/"
        },
        "id": "699a5d8b",
        "outputId": "0678e1ae-d1e6-4556-b52b-cb0a9f9558b4"
      },
      "source": [
        "# Add target column back to df_relevant\n",
        "target_column = 'temperature'\n",
        "if target_column in df_hourly_weather.columns:\n",
        "    df_relevant[target_column] = df_hourly_weather[target_column]\n",
        "elif any('temp' in col.lower() for col in df_hourly_weather.columns):\n",
        "    temp_col = [col for col in df_hourly_weather.columns if 'temp' in col.lower()][0]\n",
        "    df_relevant[target_column] = df_hourly_weather[temp_col]\n",
        "    target_column = temp_col\n",
        "\n",
        "# Rerun the cell to prepare LSTM data\n",
        "lookback = 30\n",
        "\n",
        "# Ensure the target column is in the relevant features for preparation\n",
        "if target_column not in df_relevant.columns:\n",
        "    raise ValueError(f\"Target column '{target_column}' not in relevant features.\")\n",
        "\n",
        "X_train, y_train, X_test, y_test, feature_scaler_lstm, target_scaler_lstm = prepare_lstm_data(\n",
        "    df_relevant,\n",
        "    feature_cols=[target_column], # Add feature_cols argument\n",
        "    target_col=target_column,\n",
        "    lookback=lookback,\n",
        "    test_size=0.2\n",
        ")\n",
        "\n",
        "print(f\"X_train shape: {X_train.shape}\")\n",
        "print(f\"y_train shape: {y_train.shape}\")\n",
        "print(f\"X_test shape: {X_test.shape}\")\n",
        "print(f\"y_test shape: {y_test.shape}\")"
      ],
      "execution_count": 130,
      "outputs": [
        {
          "output_type": "stream",
          "name": "stdout",
          "text": [
            "X_train shape: (105166, 30, 1)\n",
            "y_train shape: (105166, 1)\n",
            "X_test shape: (26300, 30, 1)\n",
            "y_test shape: (26300, 1)\n"
          ]
        }
      ]
    }
  ]
}